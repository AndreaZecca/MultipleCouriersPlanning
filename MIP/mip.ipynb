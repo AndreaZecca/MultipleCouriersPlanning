{
 "cells": [
  {
   "cell_type": "code",
   "execution_count": 1,
   "metadata": {},
   "outputs": [],
   "source": [
    "from mip import *"
   ]
  },
  {
   "cell_type": "code",
   "execution_count": 2,
   "metadata": {},
   "outputs": [],
   "source": [
    "inst01 = {\n",
    "    'm': 2,\n",
    "    'n': 6,\n",
    "    'l': [15, 10],\n",
    "    's': [3, 2, 6, 5, 4, 4],\n",
    "    'min_dist': 4,\n",
    "    'max_dist': 40,\n",
    "    'time': 5,\n",
    "    'at_least_one': 1,\n",
    "    'distances': [[0, 3, 4, 5, 6, 6, 2], [3, 0, 1, 4, 5, 7, 3], [4, 1, 0, 5, 6, 6, 4], [4, 4, 5, 0, 3, 3, 2], [6, 7, 8, 3, 0, 2, 4], [6, 7, 8, 3, 2, 0, 4], [2, 3, 4, 3, 4, 4, 0]]\n",
    "}"
   ]
  },
  {
   "cell_type": "code",
   "execution_count": 3,
   "metadata": {},
   "outputs": [],
   "source": [
    "instance = inst01"
   ]
  },
  {
   "cell_type": "code",
   "execution_count": 4,
   "metadata": {},
   "outputs": [
    {
     "name": "stdout",
     "output_type": "stream",
     "text": [
      "Set parameter Username\n",
      "Academic license - for non-commercial use only - expires 2024-05-21\n",
      "Warning for adding constraints: zero or small (< 1e-13) coefficients, ignored\n"
     ]
    }
   ],
   "source": [
    "n = instance[\"n\"]\n",
    "m = instance[\"m\"]\n",
    "s = instance[\"s\"]\n",
    "l = np.array(instance[\"l\"])\n",
    "max_distance = np.max(instance[\"distances\"], axis=1).sum()\n",
    "\n",
    "# deposit = n + 1\n",
    "\n",
    "# model = Model(solver_name=CBC)\n",
    "model = Model() # uses Gurobi as default\n",
    "\n",
    "# x[i, j1, j2] is 1 if the courier i travels from node j1 to node j2\n",
    "x = model.add_var_tensor((m, n + 1, n + 1), var_type=BINARY, name=\"x\")\n",
    "\n",
    "# y[i] is the distance traveled by the courier i\n",
    "y = model.add_var_tensor((m,), var_type=INTEGER, lb=0, ub=max_distance, name=\"y\")\n",
    "\n",
    "# t[i, j] is 1 if the courier i carries the package j\n",
    "t = model.add_var_tensor((m, n), var_type=BINARY, name=\"t\")\n",
    "\n",
    "# z is a path counter where z[i, j] is the number of the node j in the path of the courier i\n",
    "z = model.add_var_tensor((m, n + 1), var_type=INTEGER, lb=0, ub=max_distance, name=\"z\")\n",
    "\n",
    "# M is a sufficiently large value for the path counter\n",
    "M = n + 3\n",
    "\n",
    "# The counter is 0 for the deposit\n",
    "model += z[:, n] == 0\n",
    "\n",
    "for i in range(m):\n",
    "    for j1 in range(n + 1):\n",
    "        for j2 in range(n): # Note that j2 cannot be n + 1 (i.e. the deposit)\n",
    "            # if x[i, j1, j2] = 1, then z[i, j2] = z[i, j1] + 1\n",
    "\n",
    "            model += z[i, j2] - z[i, j1] <= M * (1 - x[i, j1, j2]) + 1\n",
    "            model += z[i, j1] - z[i, j2] <= M * (1 - x[i, j1, j2]) - 1\n",
    "\n",
    "\n",
    "for i in range(m):\n",
    "    model += np.sum(x[i, n, :]) == 1\n",
    "    model += np.sum(x[i, :, n]) == 1\n",
    "\n",
    "\n",
    "# t[i, j] is 1 if the courier i carries the package j\n",
    "for i in range(m):\n",
    "    for j in range(n):\n",
    "        model += np.sum(x[i, j, :]) == t[i, j]\n",
    "\n",
    "# All packages are carried by exactly one courier\n",
    "for j in range(n):\n",
    "    model += np.sum(t[:, j]) == 1\n",
    "\n",
    "# If a courier arrives to a package, it has to leave from that package\n",
    "for i in range(m):\n",
    "    for j in range(n):\n",
    "        courier_arrives = np.sum(x[i, :, j])\n",
    "        courier_leaves = np.sum(x[i, j, :])\n",
    "        # (not arrives) or leaves\n",
    "        model += (1 - courier_arrives) + courier_leaves >= 1\n",
    "\n",
    "\n",
    "\"\"\"# Each node must be a middle stop exactly once\n",
    "for j in range(n):\n",
    "    model += np.sum(x[i, j, :]) == 1\n",
    "    model += np.sum(x[i, :, j]) == 1\"\"\"\n",
    "\n",
    "# Each courier does not exceed its capacity\n",
    "for i in range(m):\n",
    "    model += (t[i, :] @ s) <= l[i]\n",
    "\n",
    "# y[i] is the distance traveled by the courier i\n",
    "for i in range(m):\n",
    "    model +=  np.sum(x[i, :, :] * np.array(instance[\"distances\"])) == y[i]\n",
    "\n",
    "# You cannot travel from a node to itself\n",
    "for i in range(m):\n",
    "    for j in range(n):\n",
    "        model += x[i, j, j] == 0\n",
    "\n",
    "\n",
    "v = model.add_var(name=\"v\", var_type=INTEGER, lb=0, ub=max_distance)\n",
    "\n",
    "for i in range(m):\n",
    "    model += v >= y[i]\n",
    "\n",
    "model.threads = -1"
   ]
  },
  {
   "cell_type": "code",
   "execution_count": 5,
   "metadata": {},
   "outputs": [
    {
     "name": "stdout",
     "output_type": "stream",
     "text": [
      "-1\n"
     ]
    }
   ],
   "source": [
    "print(model.threads)"
   ]
  },
  {
   "cell_type": "code",
   "execution_count": 6,
   "metadata": {},
   "outputs": [
    {
     "name": "stdout",
     "output_type": "stream",
     "text": [
      "Set parameter NodeLimit to value 1073741824\n",
      "Set parameter SolutionLimit to value 1073741824\n",
      "Set parameter IntFeasTol to value 1e-06\n",
      "Set parameter Method to value 3\n",
      "Gurobi Optimizer version 10.0.1 build v10.0.1rc0 (linux64)\n",
      "\n",
      "CPU model: Intel(R) Core(TM) i5-8300H CPU @ 2.30GHz, instruction set [SSE2|AVX|AVX2]\n",
      "Thread count: 4 physical cores, 8 logical processors, using up to 8 threads\n",
      "\n",
      "Optimize a model with 222 rows, 127 columns and 876 nonzeros\n",
      "Model fingerprint: 0x220c7745\n",
      "Variable types: 0 continuous, 127 integer (110 binary)\n",
      "Coefficient statistics:\n",
      "  Matrix range     [1e+00, 9e+00]\n",
      "  Objective range  [1e+00, 1e+00]\n",
      "  Bounds range     [1e+00, 4e+01]\n",
      "  RHS range        [1e+00, 2e+01]\n",
      "Presolve removed 50 rows and 26 columns\n",
      "Presolve time: 0.01s\n",
      "Presolved: 172 rows, 101 columns, 730 nonzeros\n",
      "Variable types: 0 continuous, 101 integer (88 binary)\n",
      "Found heuristic solution: objective 18.0000000\n",
      "\n",
      "Root relaxation: objective 7.222222e+00, 56 iterations, 0.00 seconds (0.00 work units)\n",
      "\n",
      "    Nodes    |    Current Node    |     Objective Bounds      |     Work\n",
      " Expl Unexpl |  Obj  Depth IntInf | Incumbent    BestBd   Gap | It/Node Time\n",
      "\n",
      "     0     0    7.22222    0   26   18.00000    7.22222  59.9%     -    0s\n",
      "H    0     0                      16.0000000    7.22222  54.9%     -    0s\n",
      "     0     0    8.85714    0   31   16.00000    8.85714  44.6%     -    0s\n",
      "     0     0    9.26316    0   35   16.00000    9.26316  42.1%     -    0s\n",
      "     0     0    9.26316    0   36   16.00000    9.26316  42.1%     -    0s\n",
      "     0     0   10.44444    0   33   16.00000   10.44444  34.7%     -    0s\n",
      "H    0     0                      14.0000000   11.25000  19.6%     -    0s\n",
      "     0     0   11.33333    0   33   14.00000   11.33333  19.0%     -    0s\n",
      "     0     0   14.00000    0   38   14.00000   14.00000  0.00%     -    0s\n",
      "\n",
      "Cutting planes:\n",
      "  Learned: 4\n",
      "  Gomory: 11\n",
      "  Implied bound: 9\n",
      "  MIR: 4\n",
      "  RLT: 6\n",
      "\n",
      "Explored 1 nodes (215 simplex iterations) in 0.07 seconds (0.01 work units)\n",
      "Thread count was 8 (of 8 available processors)\n",
      "\n",
      "Solution count 3: 14 16 18 \n",
      "\n",
      "Optimal solution found (tolerance 1.00e-04)\n",
      "Best objective 1.400000000000e+01, best bound 1.400000000000e+01, gap 0.0000%\n"
     ]
    },
    {
     "data": {
      "text/plain": [
       "<OptimizationStatus.OPTIMAL: 0>"
      ]
     },
     "execution_count": 6,
     "metadata": {},
     "output_type": "execute_result"
    }
   ],
   "source": [
    "model.objective = minimize(v)\n",
    "\n",
    "model.optimize()"
   ]
  },
  {
   "cell_type": "code",
   "execution_count": 7,
   "metadata": {},
   "outputs": [
    {
     "name": "stdout",
     "output_type": "stream",
     "text": [
      "Courier 0 travels from 0 to 6\n",
      "Courier 0 travels from 2 to 0\n",
      "Courier 0 travels from 3 to 2\n",
      "Courier 0 travels from 6 to 3\n",
      "Courier 1 travels from 1 to 4\n",
      "Courier 1 travels from 4 to 5\n",
      "Courier 1 travels from 5 to 6\n",
      "Courier 1 travels from 6 to 1\n"
     ]
    }
   ],
   "source": [
    "for i in range(m):\n",
    "    for j1 in range(n + 1):\n",
    "        for j2 in range(n + 1):\n",
    "            if x[i, j1, j2].x == 1:\n",
    "                print(f\"Courier {i} travels from {j1} to {j2}\")"
   ]
  },
  {
   "cell_type": "code",
   "execution_count": 8,
   "metadata": {},
   "outputs": [
    {
     "name": "stdout",
     "output_type": "stream",
     "text": [
      "Courier 0: 6, 3, 2, 0, 6\n",
      "Courier 1: 6, 1, 4, 5, 6\n"
     ]
    }
   ],
   "source": [
    "def find_next(i, node):\n",
    "    for j in range(n + 1):\n",
    "        if x[i, node, j].x == 1:\n",
    "            return j\n",
    "\n",
    "\n",
    "for i in range(m):\n",
    "    steps = [n]\n",
    "    current_node = n\n",
    "    \n",
    "    current_node = find_next(i, current_node)\n",
    "    steps.append(current_node)\n",
    "    while current_node != n:\n",
    "        current_node = find_next(i, current_node)\n",
    "        steps.append(current_node)\n",
    "    \n",
    "    print(f'Courier {i}:', ', '.join([str(node) for node in steps]))\n"
   ]
  },
  {
   "cell_type": "code",
   "execution_count": 9,
   "metadata": {},
   "outputs": [
    {
     "name": "stdout",
     "output_type": "stream",
     "text": [
      "[14.0, 14.0]\n"
     ]
    }
   ],
   "source": [
    "print([y[i].x for i in range(m)])"
   ]
  },
  {
   "cell_type": "code",
   "execution_count": 10,
   "metadata": {},
   "outputs": [
    {
     "name": "stdout",
     "output_type": "stream",
     "text": [
      "14.0\n"
     ]
    }
   ],
   "source": [
    "print(model.objective_value)"
   ]
  },
  {
   "cell_type": "code",
   "execution_count": 11,
   "metadata": {},
   "outputs": [
    {
     "name": "stdout",
     "output_type": "stream",
     "text": [
      "[(0, 0), (1, 1), (0, 2), (0, 3), (1, 4), (1, 5)]\n"
     ]
    }
   ],
   "source": [
    "print([(i, j) for j in range(n) for i in range(m) if t[i, j].x == 1])"
   ]
  }
 ],
 "metadata": {
  "kernelspec": {
   "display_name": "base",
   "language": "python",
   "name": "python3"
  },
  "language_info": {
   "codemirror_mode": {
    "name": "ipython",
    "version": 3
   },
   "file_extension": ".py",
   "mimetype": "text/x-python",
   "name": "python",
   "nbconvert_exporter": "python",
   "pygments_lexer": "ipython3",
   "version": "3.10.6"
  },
  "orig_nbformat": 4,
  "vscode": {
   "interpreter": {
    "hash": "6286809e7d4fbb71c3daa3810691c8b91be5bfdc04018685b72815f89374bbae"
   }
  }
 },
 "nbformat": 4,
 "nbformat_minor": 2
}
