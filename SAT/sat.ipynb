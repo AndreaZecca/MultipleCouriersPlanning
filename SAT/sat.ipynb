{
 "cells": [
  {
   "cell_type": "code",
   "execution_count": 1,
   "metadata": {},
   "outputs": [],
   "source": [
    "# imports\n",
    "from z3 import *\n",
    "from utils import *"
   ]
  },
  {
   "cell_type": "code",
   "execution_count": null,
   "metadata": {},
   "outputs": [],
   "source": [
    "instance1 = {\n",
    "    \"m\": 3,\n",
    "    \"n\": 7,\n",
    "    \"l\" = [15, 10, 7],\n",
    "    \"s\" = [3, 2, 6, 8, 5, 4, 4],\n",
    "\n",
    "    \"distances\" = [\n",
    "             | 0, 3, 3, 6, 5, 6, 6, 2,\n",
    "             | 3, 0, 4, 3, 4, 7, 7, 3,\n",
    "             | 3, 4, 0, 7, 6, 3, 5, 3,\n",
    "             | 6, 3, 7, 0, 3, 6, 6, 4,\n",
    "             | 5, 4, 6, 3, 0, 3, 3, 3,\n",
    "             | 6, 7, 3, 6, 3, 0, 2, 4,\n",
    "             | 6, 7, 5, 6, 3, 2, 0, 4,\n",
    "             | 2, 3, 3, 4, 3, 4, 4, 0 |]\n",
    "}"
   ]
  },
  {
   "cell_type": "code",
   "execution_count": null,
   "metadata": {},
   "outputs": [],
   "source": [
    "# ONLY BINARY VARIABLES CAN BE USED\n",
    "def MultipleCouriersPlanning(instance):\n",
    "    m = instance[\"m\"] # courriers\n",
    "    n = instance[\"n\"] # packages\n",
    "    l = instance[\"l\"] # weigths\n",
    "    s = instance[\"s\"] # sizes of courriers\n",
    "    distances = instance[\"distances\"] # distances between packages\n",
    "\n",
    "    s = Solver()\n",
    "\n",
    "    # Variables\n",
    "\n",
    "    # To codify that courrier i deliver package j at time k\n",
    "    v = [[[Bool(f\"x_{i}_{j}_{k}\") for k in range(n+1)] for j in range(n)] for i in range(m)]\n",
    "\n",
    "    # To codify rhe fact that package j have weigth x\n",
    "    weigths_bin_array = [[Bool(f\"wba_{j}_{x}\") for x in range(l[j])] for j in range(m)] \n",
    "\n",
    "    # Initialization constraints\n",
    "    # 1. Put to 1 every variable that represents a kg in weigths\n",
    "    for j in range(m):\n",
    "        for x in range(l[j]):\n",
    "            s.add(weigths_bin_array[j][x])\n",
    "\n",
    "    # Constraints\n",
    "    # 2. Each package is delivered by exactly one courrier\n",
    "    for j in range(n):\n",
    "        s.add(exactly_one([v[i][j][k] for i in range(m) for k in range(n)])) # ???\n"
   ]
  }
 ],
 "metadata": {
  "kernelspec": {
   "display_name": "Python 3",
   "language": "python",
   "name": "python3"
  },
  "language_info": {
   "codemirror_mode": {
    "name": "ipython",
    "version": 3
   },
   "file_extension": ".py",
   "mimetype": "text/x-python",
   "name": "python",
   "nbconvert_exporter": "python",
   "pygments_lexer": "ipython3",
   "version": "3.10.11"
  },
  "orig_nbformat": 4
 },
 "nbformat": 4,
 "nbformat_minor": 2
}
