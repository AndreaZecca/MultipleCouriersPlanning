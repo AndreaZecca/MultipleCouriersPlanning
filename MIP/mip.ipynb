{
 "cells": [
  {
   "cell_type": "code",
   "execution_count": 1,
   "metadata": {},
   "outputs": [],
   "source": [
    "from mip import *\n",
    "\n"
   ]
  },
  {
   "cell_type": "code",
   "execution_count": 2,
   "metadata": {},
   "outputs": [],
   "source": [
    "instance00 = {\n",
    "    \"m\" : 1,\n",
    "    \"n\" : 2,\n",
    "    \"l\" : [15],\n",
    "    \"s\" : [3, 2],\n",
    "    \"distances\" : [\n",
    "        [0, 4, 3,],\n",
    "        [3, 0, 4,],\n",
    "        [3, 4, 0,],\n",
    "    ]\n",
    "}"
   ]
  },
  {
   "cell_type": "code",
   "execution_count": 3,
   "metadata": {},
   "outputs": [],
   "source": [
    "instance1 = {\n",
    "    \"m\" : 3,\n",
    "    \"n\" : 7,\n",
    "    \"l\" : [15, 10, 7],\n",
    "    \"s\" : [3, 2, 6, 8, 5, 4, 4],\n",
    "    \"distances\" : [\n",
    "        [0, 3, 3, 6, 5, 6, 6, 2],\n",
    "        [3, 0, 4, 3, 4, 7, 7, 3],\n",
    "        [3, 4, 0, 7, 6, 3, 5, 3],\n",
    "        [6, 3, 7, 0, 3, 6, 6, 4],\n",
    "        [5, 4, 6, 3, 0, 3, 3, 3],\n",
    "        [6, 7, 3, 6, 3, 0, 2, 4],\n",
    "        [6, 7, 5, 6, 3, 2, 0, 4],\n",
    "        [2, 3, 3, 4, 3, 4, 4, 0]\n",
    "    ]\n",
    "}"
   ]
  },
  {
   "cell_type": "code",
   "execution_count": 4,
   "metadata": {},
   "outputs": [],
   "source": [
    "\"\"\"instanceBig1 = {\n",
    "    m = 6;\n",
    "n = 9;\n",
    "l = [190, 185, 185, 190, 195, 185];\n",
    "s = [11, 11, 23, 16, 2, 1, 24, 14, 20];\n",
    "distances = [0, 200, 119, 28, 180, 77, 145, 61, 123, 87, \n",
    " \t\t     200, 0, 81, 207, 38, 122, 55, 138, 76, 113, \n",
    " \t\t     119, 81, 0, 126, 69, 121, 26, 117, 91, 32, \n",
    " \t\t     28, 207, 126, 0, 187, 84, 152, 68, 130, 94, \n",
    " \t\t     170, 38, 79, 177, 0, 92, 58, 108, 46, 98, \n",
    " \t\t     77, 122, 121, 84, 102, 0, 100, 16, 46, 96, \n",
    " \t\t     145, 55, 26, 152, 58, 100, 0, 91, 70, 58, \n",
    " \t\t     61, 138, 113, 68, 118, 16, 91, 0, 62, 87, \n",
    " \t\t     123, 76, 91, 130, 56, 46, 70, 62, 0, 66, \n",
    " \t\t     87, 113, 32, 94, 94, 96, 58, 87, 66, 0 ];\n",
    "}\"\"\"\n",
    "\n",
    "instanceBig1 = {\n",
    "    \"m\" : 6,\n",
    "    \"n\" : 9,\n",
    "    \"l\" : [190, 185, 185, 190, 195, 185],\n",
    "    \"s\" : [11, 11, 23, 16, 2, 1, 24, 14, 20],\n",
    "    \"distances\" : [\n",
    "        [0, 200, 119, 28, 180, 77, 145, 61, 123, 87],\n",
    "        [200, 0, 81, 207, 38, 122, 55, 138, 76, 113],\n",
    "        [119, 81, 0, 126, 69, 121, 26, 117, 91, 32],\n",
    "        [28, 207, 126, 0, 187, 84, 152, 68, 130, 94],\n",
    "        [170, 38, 79, 177, 0, 92, 58, 108, 46, 98],\n",
    "        [77, 122, 121, 84, 102, 0, 100, 16, 46, 96],\n",
    "        [145, 55, 26, 152, 58, 100, 0, 91, 70, 58],\n",
    "        [61, 138, 113, 68, 118, 16, 91, 0, 62, 87],\n",
    "        [123, 76, 91, 130, 56, 46, 70, 62, 0, 66],\n",
    "        [87, 113, 32, 94, 94, 96, 58, 87, 66, 0]\n",
    "    ]\n",
    "}"
   ]
  },
  {
   "cell_type": "code",
   "execution_count": 5,
   "metadata": {},
   "outputs": [],
   "source": [
    "instance = instanceBig1"
   ]
  },
  {
   "cell_type": "code",
   "execution_count": 6,
   "metadata": {},
   "outputs": [
    {
     "data": {
      "text/plain": [
       "<OptimizationStatus.OPTIMAL: 0>"
      ]
     },
     "execution_count": 6,
     "metadata": {},
     "output_type": "execute_result"
    }
   ],
   "source": [
    "n = instance[\"n\"]\n",
    "m = instance[\"m\"]\n",
    "s = instance[\"s\"]\n",
    "l = np.array(instance[\"l\"])\n",
    "max_distance = np.max(instance[\"distances\"], axis=1).sum()\n",
    "\n",
    "# deposit = n + 1\n",
    "\n",
    "# We have n + 1 nodes in total\n",
    "\n",
    "model = Model()\n",
    "\n",
    "# x[i, j1, j2] is 1 if the courier i travels from node j1 to node j2\n",
    "x = model.add_var_tensor((m, n + 1, n + 1), var_type=BINARY, name=\"x\")\n",
    "\n",
    "# y[i] is the distance traveled by the courier i\n",
    "y = model.add_var_tensor((m,), var_type=INTEGER, lb=0, ub=max_distance, name=\"y\")\n",
    "\n",
    "# t[i, j] is 1 if the courier i carries the package j\n",
    "t = model.add_var_tensor((m, n), var_type=BINARY, name=\"t\")\n",
    "\n",
    "# z is a path counter where z[i, j] is the number of the node j in the path of the courier i\n",
    "z = model.add_var_tensor((m, n + 1), var_type=INTEGER, lb=0, ub=max_distance, name=\"z\")\n",
    "\n",
    "# M is a sufficiently large value for the path counter\n",
    "M = n + 3\n",
    "\n",
    "# The counter is 0 for the deposit\n",
    "model += z[:, n] == 0\n",
    "\n",
    "for i in range(m):\n",
    "    for j1 in range(n + 1):\n",
    "        for j2 in range(n): # Note that j2 cannot be n + 1 (i.e. the deposit)\n",
    "            # if x[i, j1, j2] = 1, then z[i, j2] = z[i, j1] + 1\n",
    "\n",
    "            model += z[i, j2] - z[i, j1] <= M * (1 - x[i, j1, j2]) + 1\n",
    "            model += z[i, j1] - z[i, j2] <= M * (1 - x[i, j1, j2]) - 1\n",
    "\n",
    "\n",
    "for i in range(m):\n",
    "    model += np.sum(x[i, n, :]) == 1\n",
    "    model += np.sum(x[i, :, n]) == 1\n",
    "\n",
    "\n",
    "# t[i, j] is 1 if the courier i carries the package j\n",
    "for i in range(m):\n",
    "    for j in range(n):\n",
    "        model += np.sum(x[i, j, :]) == t[i, j]\n",
    "\n",
    "# All packages are carried by exactly one courier\n",
    "for j in range(n):\n",
    "    model += np.sum(t[:, j]) == 1\n",
    "\n",
    "# If a courier arrives to a package, it has to leave from that package\n",
    "for i in range(m):\n",
    "    for j in range(n):\n",
    "        courier_arrives = np.sum(x[i, :, j])\n",
    "        courier_leaves = np.sum(x[i, j, :])\n",
    "        # (not arrives) or leaves\n",
    "        model += (1 - courier_arrives) + courier_leaves >= 1\n",
    "\n",
    "\n",
    "\"\"\"# Each node must be a middle stop exactly once\n",
    "for j in range(n):\n",
    "    model += np.sum(x[i, j, :]) == 1\n",
    "    model += np.sum(x[i, :, j]) == 1\"\"\"\n",
    "\n",
    "# Each courier does not exceed its capacity\n",
    "for i in range(m):\n",
    "    model += (t[i, :] @ s) <= l[i]\n",
    "\n",
    "# y[i] is the distance traveled by the courier i\n",
    "for i in range(m):\n",
    "    model +=  np.sum(x[i, :, :] * np.array(instance[\"distances\"])) == y[i]\n",
    "\n",
    "# You cannot travel from a node to itself\n",
    "for i in range(m):\n",
    "    for j in range(n):\n",
    "        model += x[i, j, j] == 0\n",
    "\n",
    "\n",
    "v = model.add_var(name=\"v\", var_type=INTEGER, lb=0, ub=max_distance)\n",
    "\n",
    "for i in range(m):\n",
    "    model += v >= y[i]\n",
    "\n",
    "model.objective = minimize(v)\n",
    "\n",
    "model.optimize()"
   ]
  },
  {
   "cell_type": "code",
   "execution_count": 7,
   "metadata": {},
   "outputs": [
    {
     "name": "stdout",
     "output_type": "stream",
     "text": [
      "Courier 0 travels from 1 to 2\n",
      "Courier 0 travels from 2 to 9\n",
      "Courier 0 travels from 9 to 1\n",
      "Courier 1 travels from 8 to 9\n",
      "Courier 1 travels from 9 to 8\n",
      "Courier 2 travels from 3 to 9\n",
      "Courier 2 travels from 9 to 3\n",
      "Courier 3 travels from 0 to 9\n",
      "Courier 3 travels from 9 to 0\n",
      "Courier 4 travels from 4 to 6\n",
      "Courier 4 travels from 6 to 9\n",
      "Courier 4 travels from 9 to 4\n",
      "Courier 5 travels from 5 to 7\n",
      "Courier 5 travels from 7 to 9\n",
      "Courier 5 travels from 9 to 5\n"
     ]
    }
   ],
   "source": [
    "for i in range(m):\n",
    "    for j1 in range(n + 1):\n",
    "        for j2 in range(n + 1):\n",
    "            if x[i, j1, j2].x == 1:\n",
    "                print(f\"Courier {i} travels from {j1} to {j2}\")"
   ]
  },
  {
   "cell_type": "code",
   "execution_count": 9,
   "metadata": {},
   "outputs": [
    {
     "name": "stdout",
     "output_type": "stream",
     "text": [
      "Courier 0: 9, 1, 2, 9\n",
      "Courier 1: 9, 8, 9\n",
      "Courier 2: 9, 3, 9\n",
      "Courier 3: 9, 0, 9\n",
      "Courier 4: 9, 4, 6, 9\n",
      "Courier 5: 9, 5, 7, 9\n"
     ]
    }
   ],
   "source": [
    "def find_next(i, node):\n",
    "    for j in range(n + 1):\n",
    "        if x[i, node, j].x == 1:\n",
    "            return j\n",
    "\n",
    "\n",
    "for i in range(m):\n",
    "    steps = [n]\n",
    "    current_node = n\n",
    "    \n",
    "    current_node = find_next(i, current_node)\n",
    "    steps.append(current_node)\n",
    "    while current_node != n:\n",
    "        current_node = find_next(i, current_node)\n",
    "        steps.append(current_node)\n",
    "    \n",
    "    print(f'Courier {i}:', ', '.join([str(node) for node in steps]))\n"
   ]
  },
  {
   "cell_type": "code",
   "execution_count": 10,
   "metadata": {},
   "outputs": [
    {
     "name": "stdout",
     "output_type": "stream",
     "text": [
      "[226.0, 132.0, 188.0, 174.0, 210.0, 199.0]\n"
     ]
    }
   ],
   "source": [
    "print([y[i].x for i in range(m)])"
   ]
  },
  {
   "cell_type": "code",
   "execution_count": 11,
   "metadata": {},
   "outputs": [
    {
     "name": "stdout",
     "output_type": "stream",
     "text": [
      "226.0\n"
     ]
    }
   ],
   "source": [
    "print(model.objective_value)"
   ]
  },
  {
   "cell_type": "code",
   "execution_count": 12,
   "metadata": {},
   "outputs": [
    {
     "name": "stdout",
     "output_type": "stream",
     "text": [
      "[(3, 0), (0, 1), (0, 2), (2, 3), (4, 4), (5, 5), (4, 6), (5, 7), (1, 8)]\n"
     ]
    }
   ],
   "source": [
    "print([(i, j) for j in range(n) for i in range(m) if t[i, j].x == 1])"
   ]
  }
 ],
 "metadata": {
  "kernelspec": {
   "display_name": "base",
   "language": "python",
   "name": "python3"
  },
  "language_info": {
   "codemirror_mode": {
    "name": "ipython",
    "version": 3
   },
   "file_extension": ".py",
   "mimetype": "text/x-python",
   "name": "python",
   "nbconvert_exporter": "python",
   "pygments_lexer": "ipython3",
   "version": "3.7.1"
  },
  "orig_nbformat": 4,
  "vscode": {
   "interpreter": {
    "hash": "6286809e7d4fbb71c3daa3810691c8b91be5bfdc04018685b72815f89374bbae"
   }
  }
 },
 "nbformat": 4,
 "nbformat_minor": 2
}
