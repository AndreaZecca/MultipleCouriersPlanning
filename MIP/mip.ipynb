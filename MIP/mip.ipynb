{
 "cells": [
  {
   "cell_type": "code",
   "execution_count": 59,
   "metadata": {},
   "outputs": [],
   "source": [
    "from mip import *\n",
    "\n"
   ]
  },
  {
   "cell_type": "code",
   "execution_count": 60,
   "metadata": {},
   "outputs": [],
   "source": [
    "instance00 = {\n",
    "    \"m\" : 1,\n",
    "    \"n\" : 2,\n",
    "    \"l\" : [15],\n",
    "    \"s\" : [3, 2],\n",
    "    \"distances\" : [\n",
    "        [0, 4, 3,],\n",
    "        [3, 0, 4,],\n",
    "        [3, 4, 0,],\n",
    "    ]\n",
    "}"
   ]
  },
  {
   "cell_type": "code",
   "execution_count": 88,
   "metadata": {},
   "outputs": [],
   "source": [
    "instance1 = {\n",
    "    \"m\" : 3,\n",
    "    \"n\" : 7,\n",
    "    \"l\" : [15, 10, 7],\n",
    "    \"s\" : [3, 2, 6, 8, 5, 4, 4],\n",
    "    \"distances\" : [\n",
    "        [0, 3, 3, 6, 5, 6, 6, 2],\n",
    "        [3, 0, 4, 3, 4, 7, 7, 3],\n",
    "        [3, 4, 0, 7, 6, 3, 5, 3],\n",
    "        [6, 3, 7, 0, 3, 6, 6, 4],\n",
    "        [5, 4, 6, 3, 0, 3, 3, 3],\n",
    "        [6, 7, 3, 6, 3, 0, 2, 4],\n",
    "        [6, 7, 5, 6, 3, 2, 0, 4],\n",
    "        [2, 3, 3, 4, 3, 4, 4, 0]\n",
    "    ]\n",
    "}"
   ]
  },
  {
   "cell_type": "code",
   "execution_count": 89,
   "metadata": {},
   "outputs": [],
   "source": [
    "instance = instance1"
   ]
  },
  {
   "cell_type": "code",
   "execution_count": 85,
   "metadata": {},
   "outputs": [],
   "source": [
    "n = instance[\"n\"]\n",
    "m = instance[\"m\"]\n",
    "s = instance[\"s\"]\n",
    "l = np.array(instance[\"l\"])\n",
    "\n",
    "model = Model()\n",
    "\n",
    "max_distance = np.max(instance[\"distances\"], axis=1).sum()\n",
    "\n",
    "# x[i, j, k] is 1 if the courier i is at the node j at time k\n",
    "x = model.add_var_tensor((m, n + 1, n + 2), var_type=BINARY, name=\"x\")\n",
    "# model += x <= n + 1\n",
    "# model += x >= 1\n",
    "\n",
    "# y[i] is the distance traveled by the courier i\n",
    "y = model.add_var_tensor((m,), var_type=INTEGER, name=\"y\")\n",
    "model += y >= 0\n",
    "model += y <= max_distance\n",
    "\n",
    "# z[i, j1, j2] is 1 if the courier i travels from node j1 to node j2\n",
    "z = model.add_var_tensor((m, n + 1, n + 1), var_type=BINARY, name=\"z\")\n",
    "\n",
    "# t[i, j] is 1 if the courier i carries the package j\n",
    "t = model.add_var_tensor((m, n), var_type=BINARY, name=\"t\")"
   ]
  },
  {
   "cell_type": "code",
   "execution_count": 64,
   "metadata": {},
   "outputs": [
    {
     "ename": "AttributeError",
     "evalue": "'Var' object has no attribute 'expr'",
     "output_type": "error",
     "traceback": [
      "\u001b[1;31m---------------------------------------------------------------------------\u001b[0m",
      "\u001b[1;31mAttributeError\u001b[0m                            Traceback (most recent call last)",
      "\u001b[1;32m~\\AppData\\Local\\Temp\\ipykernel_16856\\2957290373.py\u001b[0m in \u001b[0;36m<module>\u001b[1;34m\u001b[0m\n\u001b[0;32m     26\u001b[0m                 \u001b[0mz\u001b[0m\u001b[1;33m[\u001b[0m\u001b[0mi\u001b[0m\u001b[1;33m,\u001b[0m \u001b[0mj1\u001b[0m\u001b[1;33m,\u001b[0m \u001b[0mj2\u001b[0m\u001b[1;33m]\u001b[0m \u001b[1;33m>=\u001b[0m \u001b[0mx\u001b[0m\u001b[1;33m[\u001b[0m\u001b[0mi\u001b[0m\u001b[1;33m,\u001b[0m \u001b[0mj1\u001b[0m\u001b[1;33m,\u001b[0m \u001b[0mk\u001b[0m\u001b[1;33m]\u001b[0m \u001b[1;33m+\u001b[0m \u001b[0mx\u001b[0m\u001b[1;33m[\u001b[0m\u001b[0mi\u001b[0m\u001b[1;33m,\u001b[0m \u001b[0mj2\u001b[0m\u001b[1;33m,\u001b[0m \u001b[0mk\u001b[0m \u001b[1;33m+\u001b[0m \u001b[1;36m1\u001b[0m\u001b[1;33m]\u001b[0m \u001b[1;33m-\u001b[0m \u001b[1;36m1\u001b[0m\u001b[1;33m\u001b[0m\u001b[1;33m\u001b[0m\u001b[0m\n\u001b[0;32m     27\u001b[0m \u001b[1;33m\u001b[0m\u001b[0m\n\u001b[1;32m---> 28\u001b[1;33m \u001b[0mmodel\u001b[0m\u001b[1;33m.\u001b[0m\u001b[0mobjective\u001b[0m \u001b[1;33m=\u001b[0m \u001b[0mminimize\u001b[0m\u001b[1;33m(\u001b[0m\u001b[0mnp\u001b[0m\u001b[1;33m.\u001b[0m\u001b[0mmax\u001b[0m\u001b[1;33m(\u001b[0m\u001b[0my\u001b[0m\u001b[1;33m)\u001b[0m\u001b[1;33m)\u001b[0m\u001b[1;33m\u001b[0m\u001b[1;33m\u001b[0m\u001b[0m\n\u001b[0m",
      "\u001b[1;32mc:\\Users\\Samuele\\Anaconda3\\lib\\site-packages\\mip\\model.py\u001b[0m in \u001b[0;36mobjective\u001b[1;34m(self, objective)\u001b[0m\n\u001b[0;32m    843\u001b[0m                     )\n\u001b[0;32m    844\u001b[0m                 )\n\u001b[1;32m--> 845\u001b[1;33m             \u001b[0mself\u001b[0m\u001b[1;33m.\u001b[0m\u001b[0msolver\u001b[0m\u001b[1;33m.\u001b[0m\u001b[0mset_objective\u001b[0m\u001b[1;33m(\u001b[0m\u001b[0mobjective\u001b[0m\u001b[1;33m.\u001b[0m\u001b[0mflatten\u001b[0m\u001b[1;33m(\u001b[0m\u001b[1;33m)\u001b[0m\u001b[1;33m[\u001b[0m\u001b[1;36m0\u001b[0m\u001b[1;33m]\u001b[0m\u001b[1;33m)\u001b[0m\u001b[1;33m\u001b[0m\u001b[1;33m\u001b[0m\u001b[0m\n\u001b[0m\u001b[0;32m    846\u001b[0m         \u001b[1;32melse\u001b[0m\u001b[1;33m:\u001b[0m\u001b[1;33m\u001b[0m\u001b[1;33m\u001b[0m\u001b[0m\n\u001b[0;32m    847\u001b[0m             \u001b[1;32mraise\u001b[0m \u001b[0mTypeError\u001b[0m\u001b[1;33m(\u001b[0m\u001b[1;34m\"type {} not supported\"\u001b[0m\u001b[1;33m.\u001b[0m\u001b[0mformat\u001b[0m\u001b[1;33m(\u001b[0m\u001b[0mtype\u001b[0m\u001b[1;33m(\u001b[0m\u001b[0mobjective\u001b[0m\u001b[1;33m)\u001b[0m\u001b[1;33m)\u001b[0m\u001b[1;33m)\u001b[0m\u001b[1;33m\u001b[0m\u001b[1;33m\u001b[0m\u001b[0m\n",
      "\u001b[1;32mc:\\Users\\Samuele\\Anaconda3\\lib\\site-packages\\mip\\gurobi.py\u001b[0m in \u001b[0;36mset_objective\u001b[1;34m(self, lin_expr, sense)\u001b[0m\n\u001b[0;32m    867\u001b[0m         \u001b[0mself\u001b[0m\u001b[1;33m.\u001b[0m\u001b[0mflush_cols\u001b[0m\u001b[1;33m(\u001b[0m\u001b[1;33m)\u001b[0m\u001b[1;33m\u001b[0m\u001b[1;33m\u001b[0m\u001b[0m\n\u001b[0;32m    868\u001b[0m         \u001b[1;31m# collecting linear expression data\u001b[0m\u001b[1;33m\u001b[0m\u001b[1;33m\u001b[0m\u001b[1;33m\u001b[0m\u001b[0m\n\u001b[1;32m--> 869\u001b[1;33m         \u001b[0mnz\u001b[0m \u001b[1;33m=\u001b[0m \u001b[0mlen\u001b[0m\u001b[1;33m(\u001b[0m\u001b[0mlin_expr\u001b[0m\u001b[1;33m.\u001b[0m\u001b[0mexpr\u001b[0m\u001b[1;33m)\u001b[0m\u001b[1;33m\u001b[0m\u001b[1;33m\u001b[0m\u001b[0m\n\u001b[0m\u001b[0;32m    870\u001b[0m         \u001b[0mcind\u001b[0m \u001b[1;33m=\u001b[0m \u001b[0mffi\u001b[0m\u001b[1;33m.\u001b[0m\u001b[0mnew\u001b[0m\u001b[1;33m(\u001b[0m\u001b[1;34m\"int[]\"\u001b[0m\u001b[1;33m,\u001b[0m \u001b[1;33m[\u001b[0m\u001b[0mvar\u001b[0m\u001b[1;33m.\u001b[0m\u001b[0midx\u001b[0m \u001b[1;32mfor\u001b[0m \u001b[0mvar\u001b[0m \u001b[1;32min\u001b[0m \u001b[0mlin_expr\u001b[0m\u001b[1;33m.\u001b[0m\u001b[0mexpr\u001b[0m\u001b[1;33m.\u001b[0m\u001b[0mkeys\u001b[0m\u001b[1;33m(\u001b[0m\u001b[1;33m)\u001b[0m\u001b[1;33m]\u001b[0m\u001b[1;33m)\u001b[0m\u001b[1;33m\u001b[0m\u001b[1;33m\u001b[0m\u001b[0m\n\u001b[0;32m    871\u001b[0m         \u001b[0mcval\u001b[0m \u001b[1;33m=\u001b[0m \u001b[0mffi\u001b[0m\u001b[1;33m.\u001b[0m\u001b[0mnew\u001b[0m\u001b[1;33m(\u001b[0m\u001b[1;34m\"double[]\"\u001b[0m\u001b[1;33m,\u001b[0m \u001b[1;33m[\u001b[0m\u001b[0mcoef\u001b[0m \u001b[1;32mfor\u001b[0m \u001b[0mcoef\u001b[0m \u001b[1;32min\u001b[0m \u001b[0mlin_expr\u001b[0m\u001b[1;33m.\u001b[0m\u001b[0mexpr\u001b[0m\u001b[1;33m.\u001b[0m\u001b[0mvalues\u001b[0m\u001b[1;33m(\u001b[0m\u001b[1;33m)\u001b[0m\u001b[1;33m]\u001b[0m\u001b[1;33m)\u001b[0m\u001b[1;33m\u001b[0m\u001b[1;33m\u001b[0m\u001b[0m\n",
      "\u001b[1;31mAttributeError\u001b[0m: 'Var' object has no attribute 'expr'"
     ]
    }
   ],
   "source": [
    "# couriers start and end at the depot (n + 1)\n",
    "\n",
    "model += x[:, 0] == n + 1\n",
    "model += x[:, n] == n + 1\n",
    "\n",
    "# t[i, j] is 1 if the courier i carries the package j\n",
    "for i in range(m):\n",
    "    for j in range(n):\n",
    "        model += np.sum(x[i, j, :]) == t[i, j]\n",
    "\n",
    "# each courier does not exceed its capacity\n",
    "for i in range(m):\n",
    "    model += np.sum(t[i, :] * s) <= l[i]\n",
    "\n",
    "# each package is carried by exactly one courier\n",
    "for j in range(n):\n",
    "    model += np.sum(t[:, j]) == 1\n",
    "\n",
    "# z[i, j1, j2] is 1 if the courier i travels from node j1 to node j2\n",
    "for i in range(m):\n",
    "    for j1 in range(n + 1):\n",
    "        for j2 in range(n + 1):\n",
    "            for k in range(n + 1):\n",
    "                z[i, j1, j2] <= x[i, j1, k]\n",
    "                z[i, j1, j2] <= x[i, j2, k + 1]\n",
    "                z[i, j1, j2] >= x[i, j1, k] + x[i, j2, k + 1] - 1\n",
    "\n",
    "model.objective = minimize(np.max(y))"
   ]
  },
  {
   "cell_type": "code",
   "execution_count": 100,
   "metadata": {},
   "outputs": [
    {
     "data": {
      "text/plain": [
       "<OptimizationStatus.OPTIMAL: 0>"
      ]
     },
     "execution_count": 100,
     "metadata": {},
     "output_type": "execute_result"
    }
   ],
   "source": [
    "n = instance[\"n\"]\n",
    "m = instance[\"m\"]\n",
    "s = instance[\"s\"]\n",
    "l = np.array(instance[\"l\"])\n",
    "\n",
    "# deposit = n + 1\n",
    "\n",
    "# We have n + 1 nodes in total\n",
    "\n",
    "model2 = Model()\n",
    "\n",
    "# x[i, j1, j2] is 1 if the courier i travels from node j1 to node j2\n",
    "x = model2.add_var_tensor((m, n + 1, n + 1), var_type=BINARY, name=\"x\")\n",
    "\n",
    "# y[i] is the distance traveled by the courier i\n",
    "y = model2.add_var_tensor((m,), var_type=INTEGER, lb=0, ub=max_distance, name=\"y\")\n",
    "\n",
    "# t[i, j] is 1 if the courier i carries the package j\n",
    "t = model2.add_var_tensor((m, n), var_type=BINARY, name=\"t\")\n",
    "\n",
    "# o[i] is 1 if if the courier goes outside\n",
    "o = model2.add_var_tensor((m,), var_type=BINARY, name=\"o\")\n",
    "\n",
    "\n",
    "\"\"\"# All couriers start at the starting deposit\n",
    "for i in range(m):\n",
    "    model2 += np.sum(x[i, n + 1, :]) == 1\n",
    "    model2 += np.sum(x[i, :, n + 1]) == 0\n",
    "\n",
    "# All couriers end at the arrival deposit\n",
    "for i in range(m):\n",
    "    model2 += np.sum(x[i, :, n + 2]) == 1\n",
    "    model2 += np.sum(x[i, n + 2, :]) == 0\"\"\"\n",
    "\n",
    "# If the courier stays home, he will not go anywhere\n",
    "for i in range(m):\n",
    "    # Blocks travels between packages\n",
    "    model2 += x[i, :n, :n] <= o[i]\n",
    "    # Blocks travels from deposit to packages\n",
    "    # TODO: Check if it should be\n",
    "    # model2 += np.sum(x[i, n, :n]) == 1\n",
    "    # same for the other one\n",
    "    model2 += x[i, n, :n] <= o[i]\n",
    "    # (Opt.) Blocks travels from packages to deposit\n",
    "    model2 += x[i, :n, n] <= o[i]\n",
    "\n",
    "# If the courier goes outside, it cannot do deposit->deposit\n",
    "for i in range(m):\n",
    "    model2 += x[i, n, n] <= 1 - o[i]\n",
    "\n",
    "for i in range(m):\n",
    "    model2 += np.sum(x[i, n, :]) == 1\n",
    "    model2 += np.sum(x[i, :, n]) == 1\n",
    "\n",
    "\n",
    "# t[i, j] is 1 if the courier i carries the package j\n",
    "for i in range(m):\n",
    "    for j in range(n):\n",
    "        model2 += np.sum(x[i, j, :]) == t[i, j]\n",
    "\n",
    "# All packages are carried by exactly one courier\n",
    "for j in range(n):\n",
    "    model2 += np.sum(t[:, j]) == 1\n",
    "\n",
    "# If a courier arrives to a package, it has to leave from that package\n",
    "for i in range(m):\n",
    "    for j in range(n):\n",
    "        courier_arrives = np.sum(x[i, :, j])\n",
    "        courier_leaves = np.sum(x[i, j, :])\n",
    "        # (not arrives) or leaves\n",
    "        model2 += (1 - courier_arrives) + courier_leaves >= 1\n",
    "\n",
    "\n",
    "\"\"\"# Each node must be a middle stop exactly once\n",
    "for j in range(n):\n",
    "    model2 += np.sum(x[i, j, :]) == 1\n",
    "    model2 += np.sum(x[i, :, j]) == 1\"\"\"\n",
    "\n",
    "# Each courier does not exceed its capacity\n",
    "for i in range(m):\n",
    "    model2 += (t[i, :] @ s) <= l[i]\n",
    "\n",
    "# y[i] is the distance traveled by the courier i\n",
    "for i in range(m):\n",
    "    model2 +=  np.sum(x[i, :, :] * np.array(instance[\"distances\"])) == y[i]\n",
    "\n",
    "# You cannot travel from a node to itself\n",
    "for i in range(m):\n",
    "    for j in range(n):\n",
    "        model2 += x[i, j, j] == 0\n",
    "\n",
    "\n",
    "z = model2.add_var(name=\"z\", var_type=INTEGER, lb=0, ub=max_distance)\n",
    "model2 += np.max(y) == z\n",
    "\n",
    "model2.objective = minimize(z)\n",
    "\n",
    "model2.optimize()"
   ]
  },
  {
   "cell_type": "code",
   "execution_count": 101,
   "metadata": {},
   "outputs": [
    {
     "name": "stdout",
     "output_type": "stream",
     "text": [
      "Courier 0 travels from 1 to 3\n",
      "Courier 0 travels from 3 to 4\n",
      "Courier 0 travels from 4 to 7\n",
      "Courier 0 travels from 7 to 1\n",
      "Courier 1 travels from 2 to 7\n",
      "Courier 1 travels from 5 to 2\n",
      "Courier 1 travels from 7 to 5\n",
      "Courier 2 travels from 0 to 6\n",
      "Courier 2 travels from 6 to 7\n",
      "Courier 2 travels from 7 to 0\n"
     ]
    }
   ],
   "source": [
    "for i in range(m):\n",
    "    for j1 in range(n + 1):\n",
    "        for j2 in range(n + 1):\n",
    "            if x[i, j1, j2].x == 1:\n",
    "                print(f\"Courier {i} travels from {j1} to {j2}\")"
   ]
  },
  {
   "cell_type": "code",
   "execution_count": 103,
   "metadata": {},
   "outputs": [
    {
     "name": "stdout",
     "output_type": "stream",
     "text": [
      "12.0\n"
     ]
    }
   ],
   "source": [
    "print(model2.objective_value)"
   ]
  },
  {
   "cell_type": "code",
   "execution_count": null,
   "metadata": {},
   "outputs": [
    {
     "name": "stdout",
     "output_type": "stream",
     "text": [
      "[(0, 0), (0, 1)]\n"
     ]
    }
   ],
   "source": [
    "print([(i, j) for j in range(n) for i in range(m) if t[i, j].x == 1])"
   ]
  }
 ],
 "metadata": {
  "kernelspec": {
   "display_name": "base",
   "language": "python",
   "name": "python3"
  },
  "language_info": {
   "codemirror_mode": {
    "name": "ipython",
    "version": 3
   },
   "file_extension": ".py",
   "mimetype": "text/x-python",
   "name": "python",
   "nbconvert_exporter": "python",
   "pygments_lexer": "ipython3",
   "version": "3.7.1"
  },
  "orig_nbformat": 4,
  "vscode": {
   "interpreter": {
    "hash": "6286809e7d4fbb71c3daa3810691c8b91be5bfdc04018685b72815f89374bbae"
   }
  }
 },
 "nbformat": 4,
 "nbformat_minor": 2
}
