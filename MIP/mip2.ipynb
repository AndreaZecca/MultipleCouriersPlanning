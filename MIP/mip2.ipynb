{
 "cells": [
  {
   "cell_type": "code",
   "execution_count": 9,
   "metadata": {},
   "outputs": [],
   "source": [
    "from mip import *"
   ]
  },
  {
   "cell_type": "code",
   "execution_count": 10,
   "metadata": {},
   "outputs": [],
   "source": [
    "instance00 = {\n",
    "    \"m\" : 1,\n",
    "    \"n\" : 2,\n",
    "    \"l\" : [15],\n",
    "    \"s\" : [3, 2],\n",
    "    \"distances\" : [\n",
    "        [0, 4, 3,],\n",
    "        [3, 0, 4,],\n",
    "        [3, 4, 0,],\n",
    "    ]\n",
    "}\n",
    "\n",
    "instance1 = {\n",
    "    \"m\" : 3,\n",
    "    \"n\" : 7,\n",
    "    \"l\" : [15, 10, 7],\n",
    "    \"s\" : [3, 2, 6, 8, 5, 4, 4],\n",
    "    \"distances\" : [\n",
    "        [0, 3, 3, 6, 5, 6, 6, 2],\n",
    "        [3, 0, 4, 3, 4, 7, 7, 3],\n",
    "        [3, 4, 0, 7, 6, 3, 5, 3],\n",
    "        [6, 3, 7, 0, 3, 6, 6, 4],\n",
    "        [5, 4, 6, 3, 0, 3, 3, 3],\n",
    "        [6, 7, 3, 6, 3, 0, 2, 4],\n",
    "        [6, 7, 5, 6, 3, 2, 0, 4],\n",
    "        [2, 3, 3, 4, 3, 4, 4, 0]\n",
    "    ]\n",
    "}\n",
    "\n",
    "instanceBig1 = {\n",
    "    \"m\" : 6,\n",
    "    \"n\" : 9,\n",
    "    \"l\" : [190, 185, 185, 190, 195, 185],\n",
    "    \"s\" : [11, 11, 23, 16, 2, 1, 24, 14, 20],\n",
    "    \"distances\" : [\n",
    "        [0, 200, 119, 28, 180, 77, 145, 61, 123, 87],\n",
    "        [200, 0, 81, 207, 38, 122, 55, 138, 76, 113],\n",
    "        [119, 81, 0, 126, 69, 121, 26, 117, 91, 32],\n",
    "        [28, 207, 126, 0, 187, 84, 152, 68, 130, 94],\n",
    "        [170, 38, 79, 177, 0, 92, 58, 108, 46, 98],\n",
    "        [77, 122, 121, 84, 102, 0, 100, 16, 46, 96],\n",
    "        [145, 55, 26, 152, 58, 100, 0, 91, 70, 58],\n",
    "        [61, 138, 113, 68, 118, 16, 91, 0, 62, 87],\n",
    "        [123, 76, 91, 130, 56, 46, 70, 62, 0, 66],\n",
    "        [87, 113, 32, 94, 94, 96, 58, 87, 66, 0]\n",
    "    ]\n",
    "}"
   ]
  },
  {
   "cell_type": "code",
   "execution_count": 11,
   "metadata": {},
   "outputs": [],
   "source": [
    "instance = instanceBig1"
   ]
  },
  {
   "cell_type": "code",
   "execution_count": 12,
   "metadata": {},
   "outputs": [],
   "source": [
    "n = instance[\"n\"]\n",
    "m = instance[\"m\"]\n",
    "s = instance[\"s\"]\n",
    "l = np.array(instance[\"l\"])\n",
    "distances = np.array(instance[\"distances\"])\n",
    "max_distance = np.max(distances, axis=1).sum()\n",
    "\n",
    "# depot is n+1 (since 0-indexed it's n)\n",
    "\n",
    "model = Model(solver_name=CBC)\n",
    "\n",
    "# x[i,j,jk] = 1 if courier i at time k delivers package j\n",
    "x = model.add_var_tensor((m, n+1, n+2), var_type=BINARY, name=\"x\")\n",
    "\n",
    "# y[i] is the totale distance travelled by courier i\n",
    "y = model.add_var_tensor((m,), var_type=INTEGER, lb=0, ub=max_distance, name=\"y\")\n",
    "\n",
    "# t[i,j] is 1 if courier i delivers package j\n",
    "t = model.add_var_tensor((m, n), var_type=BINARY, name=\"t\")\n",
    "\n",
    "# z[i, j1, j2] is 1 if courier i goes from package j1 to package j2\n",
    "z = model.add_var_tensor((m, n+1, n+1), var_type=BINARY, name=\"z\")\n",
    "\n",
    "# each courier start from the depot\n",
    "model += x[:, n, 0] == 1\n",
    "# each courier end at the depot\n",
    "model += x[:, n, n+1] == 1\n",
    "\n",
    "# t[i,j] \n",
    "for i in range(m):\n",
    "    for j in range(n):\n",
    "        model += np.sum(x[i,j,:]) == t[i,j]\n",
    "\n",
    "# every package is delivered\n",
    "for j in range(n):\n",
    "    model += np.sum(t[:,j]) == 1\n",
    "\n",
    "# each courier can carry at most l[i] weight\n",
    "for i in range(m):\n",
    "    model += s @ t[i,:] <= l[i]\n",
    "\n",
    "# z[i, j1, j2]\n",
    "# z[i, j1, j2] true iff x[i, j1, k] and x[i, j2, k+1] are true for some k\n",
    "for i in range(m):\n",
    "    for j1 in range(n+1):\n",
    "        for j2 in range(n+1):\n",
    "            for k in range(n+1):\n",
    "                model += z[i, j1, j2] <= x[i, j1, k]\n",
    "                model += z[i, j1, j2] <= x[i, j2, k+1]\n",
    "                model += z[i, j1, j2] >= x[i, j1, k] + x[i, j2, k+1] - 1\n",
    "\n",
    "# copilot suggested this, maybe it's implicit in the other constraints\n",
    "\"\"\"# each courier can only go from a package to another if he is delivering that package\n",
    "for i in range(m):\n",
    "    for j1 in range(n):\n",
    "        for j2 in range(n):\n",
    "            model += z[i, j1, j2] <= t[i, j1]\n",
    "            model += z[i, j1, j2] <= t[i, j2]\n",
    "            model += z[i, j1, j2] >= t[i, j1] + t[i, j2] - 1\"\"\"\n",
    "\n",
    "# y[i]\n",
    "for i in range(m):\n",
    "    model += np.sum(distances * z[i,:,:]) == y[i]\n",
    "\n",
    "# once a courier return to the depot, he can't go anywhere else\n",
    "# x[i, n, k] = 1 => x[i, n, k+1] = 1\n",
    "for i in range(m):\n",
    "    for k in range(1,n+1):\n",
    "        model += x[i, n, k] <= x[i, n, k+1]\n",
    "    \n",
    "v = model.add_var(name=\"v\", var_type=INTEGER, lb=0, ub=max_distance)\n",
    "\n",
    "for i in range(m):\n",
    "    model += v >= y[i]\n",
    "\n",
    "model.threads = -1"
   ]
  },
  {
   "cell_type": "code",
   "execution_count": 13,
   "metadata": {},
   "outputs": [
    {
     "name": "stdout",
     "output_type": "stream",
     "text": [
      "Starting solution of the Linear programming relaxation problem using Primal Simplex\n",
      "\n",
      "Clp0024I Matrix will be packed to eliminate 60 small elements\n",
      "Coin0506I Presolve 17403 (-744) rows, 1249 (-72) columns and 41796 (-1638) elements\n",
      "Clp0030I 19 infeas 0.0022219071, obj 0.030750184 - mu 1.3709193e-06, its 105, 828 interior\n",
      "Clp1000I sum of infeasibilities 0.000102838 - average 5.90922e-09, 426 fixed columns\n",
      "Coin0506I Presolve 9063 (-8340) rows, 823 (-426) columns and 20450 (-21346) elements\n",
      "Clp0006I 0  Obj 0.0389941 Primal inf 1.9414553e-05 (57) Dual inf 5.0028443e+13 (71)\n",
      "Clp0029I End of values pass after 823 iterations\n",
      "Clp0014I Perturbing problem by 0.001% of 1.2490919 - largest nonzero change 2.9877133e-05 ( 0.0014938567%) - largest zero change 2.9989116e-05\n",
      "Clp0000I Optimal - objective value 0\n",
      "Clp0000I Optimal - objective value 0\n",
      "Coin0511I After Postsolve, objective 0, infeasibilities - dual 0 (0), primal 0 (0)\n",
      "Clp0006I 0  Obj 0\n",
      "Clp0000I Optimal - objective value 0\n",
      "Clp0000I Optimal - objective value 0\n",
      "Clp0000I Optimal - objective value 0\n",
      "Coin0511I After Postsolve, objective 0, infeasibilities - dual 0 (0), primal 0 (0)\n",
      "Clp0032I Optimal objective 0 - 0 iterations time 1.282, Presolve 0.02, Idiot 1.26\n",
      "\n",
      "Starting MIP optimization\n",
      "Cgl0003I 702 fixed, 0 tightened bounds, 5849 strengthened rows, 540 substitutions\n",
      "Cgl0003I 0 fixed, 0 tightened bounds, 17 strengthened rows, 0 substitutions\n",
      "Cgl0003I 0 fixed, 2 tightened bounds, 1685 strengthened rows, 0 substitutions\n",
      "Cgl0003I 0 fixed, 0 tightened bounds, 1098 strengthened rows, 0 substitutions\n",
      "Cgl0003I 0 fixed, 0 tightened bounds, 718 strengthened rows, 0 substitutions\n",
      "Cgl0003I 0 fixed, 0 tightened bounds, 679 strengthened rows, 0 substitutions\n",
      "Cgl0003I 0 fixed, 0 tightened bounds, 679 strengthened rows, 0 substitutions\n",
      "Cgl0003I 0 fixed, 0 tightened bounds, 679 strengthened rows, 0 substitutions\n",
      "Cgl0003I 0 fixed, 0 tightened bounds, 679 strengthened rows, 0 substitutions\n",
      "Cgl0003I 0 fixed, 0 tightened bounds, 678 strengthened rows, 0 substitutions\n",
      "Cgl0004I processed model has 2548 rows, 484 columns (484 integer (484 of which binary)) and 13140 elements\n",
      "Coin3009W Conflict graph built in 0.003 seconds, density: 3.379%\n",
      "Cgl0015I Clique Strengthening extended 9 cliques, 678 were dominated\n",
      "Cbc0045I Nauty: 2267 orbits (9 useful covering 106 variables), 97 generators, group size: 9.21871e+75 - sparse size 17830 - took 0.02988 seconds\n",
      "Cbc0045I No integer variables out of 484 objects (484 integer) have costs\n",
      "Cbc0045I branch on satisfied N create fake objective Y random cost Y\n",
      "Cbc0038I Initial state - 0 integers unsatisfied sum - 0\n",
      "Cbc0038I Solution found of 0\n",
      "Cbc0038I Before mini branch and bound, 484 integers at bound fixed and 0 continuous\n",
      "Cbc0038I Mini branch and bound did not improve solution (2.58 seconds)\n",
      "Cbc0038I After 2.58 seconds - Feasibility pump exiting with objective of 0 - took 0.00 seconds\n",
      "Cbc0012I Integer solution of 0 found by feasibility pump after 0 iterations and 0 nodes (2.58 seconds)\n",
      "Cbc0030I Thread 0 used 0 times,  waiting to start 0.019864082, 0 cpu time, 0 locks, 0 locked, 0 waiting for locks\n",
      "Cbc0030I Thread 1 used 0 times,  waiting to start 0.017641783, 0 cpu time, 0 locks, 0 locked, 0 waiting for locks\n",
      "Cbc0030I Thread 2 used 0 times,  waiting to start 0.015029192, 0 cpu time, 0 locks, 0 locked, 0 waiting for locks\n",
      "Cbc0030I Thread 3 used 0 times,  waiting to start 0.012433767, 0 cpu time, 0 locks, 0 locked, 0 waiting for locks\n",
      "Cbc0030I Thread 4 used 0 times,  waiting to start 0.0098087788, 0 cpu time, 0 locks, 0 locked, 0 waiting for locks\n",
      "Cbc0030I Thread 5 used 0 times,  waiting to start 0.0075378418, 0 cpu time, 0 locks, 0 locked, 0 waiting for locks\n",
      "Cbc0030I Thread 6 used 0 times,  waiting to start 0.0056297779, 0 cpu time, 0 locks, 0 locked, 0 waiting for locks\n",
      "Cbc0030I Thread 7 used 0 times,  waiting to start 0.0020232201, 0 cpu time, 0 locks, 0 locked, 0 waiting for locks\n",
      "Cbc0030I Main thread 0 waiting for threads,  1 locks, 2.6226044e-06 locked, 4.7683716e-07 waiting for locks\n",
      "Cbc0001I Search completed - best objective 0, took 0 iterations and 0 nodes (2.61 seconds)\n",
      "Cbc0035I Maximum depth 0, 0 variables fixed on reduced cost\n",
      "Total time (CPU seconds):       2.60   (Wallclock seconds):       2.64\n",
      "\n"
     ]
    },
    {
     "data": {
      "text/plain": [
       "<OptimizationStatus.OPTIMAL: 0>"
      ]
     },
     "execution_count": 13,
     "metadata": {},
     "output_type": "execute_result"
    }
   ],
   "source": [
    "model.objective = minimize(v)\n",
    "\n",
    "model.optimize()"
   ]
  },
  {
   "cell_type": "code",
   "execution_count": 14,
   "metadata": {},
   "outputs": [
    {
     "name": "stdout",
     "output_type": "stream",
     "text": [
      "[0.0, 0.0, 0.0, 0.0, 0.0, 0.0]\n"
     ]
    }
   ],
   "source": [
    "print([y[i].x for i in range(m)])"
   ]
  },
  {
   "cell_type": "code",
   "execution_count": 15,
   "metadata": {},
   "outputs": [
    {
     "name": "stdout",
     "output_type": "stream",
     "text": [
      "0.0\n"
     ]
    }
   ],
   "source": [
    "print(model.objective_value)"
   ]
  },
  {
   "cell_type": "code",
   "execution_count": 16,
   "metadata": {},
   "outputs": [
    {
     "name": "stdout",
     "output_type": "stream",
     "text": [
      "Courier 0 delivers package 0\n",
      "Courier 0 delivers package 1\n",
      "Courier 0 delivers package 2\n",
      "Courier 0 delivers package 3\n",
      "Courier 0 delivers package 4\n",
      "Courier 0 delivers package 5\n",
      "Courier 0 delivers package 6\n",
      "Courier 0 delivers package 7\n",
      "Courier 0 delivers package 8\n"
     ]
    }
   ],
   "source": [
    "for i in range(m):\n",
    "    for j in range(n):\n",
    "        if t[i,j].x == 1:\n",
    "            print(f\"Courier {i} delivers package {j}\")"
   ]
  }
 ],
 "metadata": {
  "kernelspec": {
   "display_name": "Python 3",
   "language": "python",
   "name": "python3"
  },
  "language_info": {
   "codemirror_mode": {
    "name": "ipython",
    "version": 3
   },
   "file_extension": ".py",
   "mimetype": "text/x-python",
   "name": "python",
   "nbconvert_exporter": "python",
   "pygments_lexer": "ipython3",
   "version": "3.10.6"
  },
  "orig_nbformat": 4
 },
 "nbformat": 4,
 "nbformat_minor": 2
}
