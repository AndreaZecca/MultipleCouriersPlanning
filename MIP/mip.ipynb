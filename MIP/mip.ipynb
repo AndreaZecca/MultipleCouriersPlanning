{
 "cells": [
  {
   "cell_type": "code",
   "execution_count": 1,
   "metadata": {},
   "outputs": [],
   "source": [
    "from mip import *\n",
    "\n"
   ]
  },
  {
   "cell_type": "code",
   "execution_count": 2,
   "metadata": {},
   "outputs": [],
   "source": [
    "instance00 = {\n",
    "    \"m\" : 1,\n",
    "    \"n\" : 2,\n",
    "    \"l\" : [15],\n",
    "    \"s\" : [3, 2],\n",
    "    \"distances\" : [\n",
    "        [0, 4, 3,],\n",
    "        [3, 0, 4,],\n",
    "        [3, 4, 0,],\n",
    "    ]\n",
    "}"
   ]
  },
  {
   "cell_type": "code",
   "execution_count": 3,
   "metadata": {},
   "outputs": [],
   "source": [
    "instance1 = {\n",
    "    \"m\" : 3,\n",
    "    \"n\" : 7,\n",
    "    \"l\" : [15, 10, 7],\n",
    "    \"s\" : [3, 2, 6, 8, 5, 4, 4],\n",
    "    \"distances\" : [\n",
    "        [0, 3, 3, 6, 5, 6, 6, 2],\n",
    "        [3, 0, 4, 3, 4, 7, 7, 3],\n",
    "        [3, 4, 0, 7, 6, 3, 5, 3],\n",
    "        [6, 3, 7, 0, 3, 6, 6, 4],\n",
    "        [5, 4, 6, 3, 0, 3, 3, 3],\n",
    "        [6, 7, 3, 6, 3, 0, 2, 4],\n",
    "        [6, 7, 5, 6, 3, 2, 0, 4],\n",
    "        [2, 3, 3, 4, 3, 4, 4, 0]\n",
    "    ]\n",
    "}"
   ]
  },
  {
   "cell_type": "code",
   "execution_count": 4,
   "metadata": {},
   "outputs": [],
   "source": [
    "instanceBig1 = {\n",
    "    \"m\" : 6,\n",
    "    \"n\" : 9,\n",
    "    \"l\" : [190, 185, 185, 190, 195, 185],\n",
    "    \"s\" : [11, 11, 23, 16, 2, 1, 24, 14, 20],\n",
    "    \"distances\" : [\n",
    "        [0, 200, 119, 28, 180, 77, 145, 61, 123, 87],\n",
    "        [200, 0, 81, 207, 38, 122, 55, 138, 76, 113],\n",
    "        [119, 81, 0, 126, 69, 121, 26, 117, 91, 32],\n",
    "        [28, 207, 126, 0, 187, 84, 152, 68, 130, 94],\n",
    "        [170, 38, 79, 177, 0, 92, 58, 108, 46, 98],\n",
    "        [77, 122, 121, 84, 102, 0, 100, 16, 46, 96],\n",
    "        [145, 55, 26, 152, 58, 100, 0, 91, 70, 58],\n",
    "        [61, 138, 113, 68, 118, 16, 91, 0, 62, 87],\n",
    "        [123, 76, 91, 130, 56, 46, 70, 62, 0, 66],\n",
    "        [87, 113, 32, 94, 94, 96, 58, 87, 66, 0]\n",
    "    ]\n",
    "}"
   ]
  },
  {
   "cell_type": "code",
   "execution_count": 5,
   "metadata": {},
   "outputs": [],
   "source": [
    "instance = instanceBig1"
   ]
  },
  {
   "cell_type": "code",
   "execution_count": 6,
   "metadata": {},
   "outputs": [],
   "source": [
    "n = instance[\"n\"]\n",
    "m = instance[\"m\"]\n",
    "s = instance[\"s\"]\n",
    "l = np.array(instance[\"l\"])\n",
    "max_distance = np.max(instance[\"distances\"], axis=1).sum()\n",
    "\n",
    "# deposit = n + 1\n",
    "\n",
    "model = Model(solver_name=CBC)\n",
    "\n",
    "# x[i, j1, j2] is 1 if the courier i travels from node j1 to node j2\n",
    "x = model.add_var_tensor((m, n + 1, n + 1), var_type=BINARY, name=\"x\")\n",
    "\n",
    "# y[i] is the distance traveled by the courier i\n",
    "y = model.add_var_tensor((m,), var_type=INTEGER, lb=0, ub=max_distance, name=\"y\")\n",
    "\n",
    "# t[i, j] is 1 if the courier i carries the package j\n",
    "t = model.add_var_tensor((m, n), var_type=BINARY, name=\"t\")\n",
    "\n",
    "# z is a path counter where z[i, j] is the number of the node j in the path of the courier i\n",
    "z = model.add_var_tensor((m, n + 1), var_type=INTEGER, lb=0, ub=max_distance, name=\"z\")\n",
    "\n",
    "# M is a sufficiently large value for the path counter\n",
    "M = n + 3\n",
    "\n",
    "# The counter is 0 for the deposit\n",
    "model += z[:, n] == 0\n",
    "\n",
    "for i in range(m):\n",
    "    for j1 in range(n + 1):\n",
    "        for j2 in range(n): # Note that j2 cannot be n + 1 (i.e. the deposit)\n",
    "            # if x[i, j1, j2] = 1, then z[i, j2] = z[i, j1] + 1\n",
    "\n",
    "            model += z[i, j2] - z[i, j1] <= M * (1 - x[i, j1, j2]) + 1\n",
    "            model += z[i, j1] - z[i, j2] <= M * (1 - x[i, j1, j2]) - 1\n",
    "\n",
    "\n",
    "for i in range(m):\n",
    "    model += np.sum(x[i, n, :]) == 1\n",
    "    model += np.sum(x[i, :, n]) == 1\n",
    "\n",
    "\n",
    "# t[i, j] is 1 if the courier i carries the package j\n",
    "for i in range(m):\n",
    "    for j in range(n):\n",
    "        model += np.sum(x[i, j, :]) == t[i, j]\n",
    "\n",
    "# All packages are carried by exactly one courier\n",
    "for j in range(n):\n",
    "    model += np.sum(t[:, j]) == 1\n",
    "\n",
    "# If a courier arrives to a package, it has to leave from that package\n",
    "for i in range(m):\n",
    "    for j in range(n):\n",
    "        courier_arrives = np.sum(x[i, :, j])\n",
    "        courier_leaves = np.sum(x[i, j, :])\n",
    "        # (not arrives) or leaves\n",
    "        model += (1 - courier_arrives) + courier_leaves >= 1\n",
    "\n",
    "\n",
    "\"\"\"# Each node must be a middle stop exactly once\n",
    "for j in range(n):\n",
    "    model += np.sum(x[i, j, :]) == 1\n",
    "    model += np.sum(x[i, :, j]) == 1\"\"\"\n",
    "\n",
    "# Each courier does not exceed its capacity\n",
    "for i in range(m):\n",
    "    model += (t[i, :] @ s) <= l[i]\n",
    "\n",
    "# y[i] is the distance traveled by the courier i\n",
    "for i in range(m):\n",
    "    model +=  np.sum(x[i, :, :] * np.array(instance[\"distances\"])) == y[i]\n",
    "\n",
    "# You cannot travel from a node to itself\n",
    "for i in range(m):\n",
    "    for j in range(n):\n",
    "        model += x[i, j, j] == 0\n",
    "\n",
    "\n",
    "v = model.add_var(name=\"v\", var_type=INTEGER, lb=0, ub=max_distance)\n",
    "\n",
    "for i in range(m):\n",
    "    model += v >= y[i]\n",
    "\n",
    "model.threads = 16"
   ]
  },
  {
   "cell_type": "code",
   "execution_count": 7,
   "metadata": {},
   "outputs": [
    {
     "name": "stdout",
     "output_type": "stream",
     "text": [
      "16\n"
     ]
    }
   ],
   "source": [
    "print(model.threads)"
   ]
  },
  {
   "cell_type": "code",
   "execution_count": 8,
   "metadata": {},
   "outputs": [
    {
     "name": "stdout",
     "output_type": "stream",
     "text": [
      "Welcome to the CBC MILP Solver \n",
      "Version: Trunk\n",
      "Build Date: Oct 24 2021 \n",
      "\n",
      "Starting solution of the Linear programming relaxation problem using Primal Simplex\n",
      "\n",
      "Clp0024I Matrix will be packed to eliminate 114 small elements\n",
      "Coin0506I Presolve 1053 (-234) rows, 601 (-120) columns and 4932 (-612) elements\n",
      "Clp1000I sum of infeasibilities 6.24066e-05 - average 5.92656e-08, 206 fixed columns\n",
      "Coin0506I Presolve 81 (-972) rows, 395 (-206) columns and 1530 (-3402) elements\n",
      "Clp0029I End of values pass after 395 iterations\n",
      "Clp0014I Perturbing problem by 0.001% of 3.3126433 - largest nonzero change 1.4452061e-05 ( 0.00053541528%) - largest zero change 2.8682824e-05\n",
      "Clp0000I Optimal - objective value 50\n",
      "Clp0000I Optimal - objective value 50\n",
      "Coin0511I After Postsolve, objective 50, infeasibilities - dual 0 (0), primal 0 (0)\n",
      "Clp0029I End of values pass after 18 iterations\n",
      "Clp0000I Optimal - objective value 50\n",
      "Clp0000I Optimal - objective value 50\n",
      "Clp0000I Optimal - objective value 50\n",
      "Coin0511I After Postsolve, objective 50, infeasibilities - dual 0 (0), primal 0 (0)\n",
      "Clp0032I Optimal objective 50 - 0 iterations time 0.202, Presolve 0.01, Idiot 0.19\n",
      "\n",
      "Starting MIP optimization\n",
      "Cgl0002I 54 variables fixed\n",
      "Cgl0003I 0 fixed, 0 tightened bounds, 108 strengthened rows, 0 substitutions\n",
      "Cgl0003I 0 fixed, 0 tightened bounds, 108 strengthened rows, 0 substitutions\n",
      "Cgl0003I 0 fixed, 0 tightened bounds, 108 strengthened rows, 0 substitutions\n",
      "Cgl0003I 0 fixed, 0 tightened bounds, 108 strengthened rows, 0 substitutions\n",
      "Cgl0003I 0 fixed, 0 tightened bounds, 108 strengthened rows, 0 substitutions\n",
      "Cgl0003I 0 fixed, 0 tightened bounds, 108 strengthened rows, 0 substitutions\n",
      "Cgl0003I 0 fixed, 0 tightened bounds, 108 strengthened rows, 0 substitutions\n",
      "Cgl0003I 0 fixed, 0 tightened bounds, 108 strengthened rows, 0 substitutions\n",
      "Cgl0003I 0 fixed, 0 tightened bounds, 54 strengthened rows, 0 substitutions\n",
      "Cgl0004I processed model has 1053 rows, 601 columns (601 integer (546 of which binary)) and 5850 elements\n",
      "Coin3009W Conflict graph built in 0.002 seconds, density: 1.932%\n",
      "Cgl0015I Clique Strengthening extended 0 cliques, 0 were dominated\n",
      "Cbc0045I Nauty: 852 orbits (100 useful covering 600 variables), 5 generators, group size: 720 - sparse size 28620 - took 0.020278 seconds\n",
      "Cbc0045I 1 integer variables out of 601 objects (601 integer) have cost of 1 - high priority\n",
      "Cbc0045I branch on satisfied N create fake objective N random cost N\n",
      "Cbc0038I Initial state - 27 integers unsatisfied sum - 4.09524\n",
      "Cbc0038I Pass   1: suminf.    2.50000 (32) obj. 219.611 iterations 147\n",
      "Cbc0038I Pass   2: suminf.    2.33333 (23) obj. 218.667 iterations 35\n",
      "Cbc0038I Pass   3: suminf.    1.75000 (14) obj. 814.75 iterations 189\n",
      "Cbc0038I Pass   4: suminf.    3.05556 (30) obj. 806 iterations 53\n",
      "Cbc0038I Pass   5: suminf.    5.47222 (15) obj. 746.139 iterations 231\n",
      "Cbc0038I Pass   6: suminf.    5.11111 (24) obj. 565.444 iterations 101\n",
      "Cbc0038I Pass   7: suminf.    3.28889 (25) obj. 443 iterations 189\n",
      "Cbc0038I Pass   8: suminf.    2.58333 (32) obj. 417.083 iterations 88\n",
      "Cbc0038I Pass   9: suminf.    2.93333 (29) obj. 628.1 iterations 217\n",
      "Cbc0038I Pass  10: suminf.    2.78571 (33) obj. 600.571 iterations 113\n",
      "Cbc0038I Pass  11: suminf.    2.66667 (22) obj. 870.417 iterations 308\n",
      "Cbc0038I Pass  12: suminf.    4.33333 (33) obj. 856.278 iterations 103\n",
      "Cbc0038I Pass  13: suminf.    2.16667 (14) obj. 391.167 iterations 240\n",
      "Cbc0038I Pass  14: suminf.    1.66667 (19) obj. 372.167 iterations 87\n",
      "Cbc0038I Pass  15: suminf.    2.33333 (22) obj. 388.333 iterations 171\n",
      "Cbc0038I Pass  16: suminf.    1.94444 (25) obj. 387.889 iterations 134\n",
      "Cbc0038I Pass  17: suminf.    7.00000 (14) obj. 789 iterations 236\n",
      "Cbc0038I Pass  18: suminf.    5.75000 (14) obj. 576.25 iterations 121\n",
      "Cbc0038I Pass  19: suminf.    1.91667 (9) obj. 630.25 iterations 110\n",
      "Cbc0038I Pass  20: suminf.    3.34954 (32) obj. 581.127 iterations 53\n",
      "Cbc0038I Pass  21: suminf.    5.33333 (19) obj. 541.333 iterations 161\n",
      "Cbc0038I Pass  22: suminf.    4.58333 (20) obj. 471.75 iterations 117\n",
      "Cbc0038I Pass  23: suminf.    3.25000 (18) obj. 401.75 iterations 179\n",
      "Cbc0038I Pass  24: suminf.    3.20833 (22) obj. 399.208 iterations 139\n",
      "Cbc0038I Pass  25: suminf.    2.50000 (15) obj. 763 iterations 246\n",
      "Cbc0038I Pass  26: suminf.    4.08333 (26) obj. 744.667 iterations 53\n",
      "Cbc0038I Pass  27: suminf.    2.16667 (19) obj. 614.5 iterations 156\n",
      "Cbc0038I Pass  28: suminf.    3.12500 (25) obj. 607.125 iterations 101\n",
      "Cbc0038I Pass  29: suminf.    3.70312 (28) obj. 749.984 iterations 306\n",
      "Cbc0038I Pass  30: suminf.    9.25000 (28) obj. 490.25 iterations 262\n",
      "Cbc0038I No solution found this major pass\n",
      "Cbc0038I Before mini branch and bound, 428 integers at bound fixed and 0 continuous\n",
      "Cbc0038I Full problem 1053 rows 601 columns, reduced to 283 rows 131 columns\n",
      "Cbc0038I Mini branch and bound did not improve solution (0.77 seconds)\n",
      "Cbc0038I After 0.77 seconds - Feasibility pump exiting - took 0.56 seconds\n",
      "Cbc0031I 20 added rows had average density of 92.45\n",
      "Cbc0013I At root node, 20 cuts changed objective from 50 to 61.998967 in 22 passes\n",
      "Cbc0014I Cut generator 0 (Probing) - 192 row cuts average 2.0 elements, 0 column cuts (0 active)  in 0.101 seconds - new frequency is 1\n",
      "Cbc0014I Cut generator 1 (Gomory) - 383 row cuts average 495.3 elements, 0 column cuts (0 active)  in 0.147 seconds - new frequency is 1\n",
      "Cbc0014I Cut generator 2 (Knapsack) - 0 row cuts average 0.0 elements, 0 column cuts (0 active)  in 0.011 seconds - new frequency is -100\n",
      "Cbc0014I Cut generator 3 (Clique) - 0 row cuts average 0.0 elements, 0 column cuts (0 active)  in 0.003 seconds - new frequency is -100\n",
      "Cbc0014I Cut generator 4 (OddWheel) - 0 row cuts average 0.0 elements, 0 column cuts (0 active)  in 0.003 seconds - new frequency is -100\n",
      "Cbc0014I Cut generator 5 (MixedIntegerRounding2) - 0 row cuts average 0.0 elements, 0 column cuts (0 active)  in 0.023 seconds - new frequency is -100\n",
      "Cbc0014I Cut generator 6 (FlowCover) - 0 row cuts average 0.0 elements, 0 column cuts (0 active)  in 0.026 seconds - new frequency is -100\n",
      "Cbc0014I Cut generator 7 (TwoMirCuts) - 56 row cuts average 75.6 elements, 0 column cuts (0 active)  in 0.023 seconds - new frequency is 1\n",
      "Cbc0010I After 0 nodes, 1 on tree, 1e+50 best solution, best possible 62 (2.42 seconds)\n",
      "Cbc0012I Integer solution of 331 found by DiveCoefficient after 4238 iterations and 5 nodes (3.07 seconds)\n",
      "Cbc0012I Integer solution of 331 found by heuristic after 4323 iterations and 5 nodes (3.07 seconds)\n",
      "Cbc0010I After 8 nodes, 2 on tree, 331 best solution, best possible 62 (3.15 seconds)\n",
      "Cbc0012I Integer solution of 302 found by heuristic after 6598 iterations and 42 nodes (3.81 seconds)\n",
      "Cbc0010I After 48 nodes, 2 on tree, 302 best solution, best possible 62 (3.98 seconds)\n",
      "Cbc0012I Integer solution of 295 found by heuristic after 7058 iterations and 52 nodes (4.03 seconds)\n",
      "Cbc0012I Integer solution of 226 found by heuristic after 7303 iterations and 61 nodes (4.21 seconds)\n",
      "Cbc0010I After 103 nodes, 9 on tree, 226 best solution, best possible 62 (4.69 seconds)\n",
      "Cbc0010I After 202 nodes, 33 on tree, 226 best solution, best possible 62 (5.39 seconds)\n",
      "Cbc0010I After 325 nodes, 33 on tree, 226 best solution, best possible 62 (6.09 seconds)\n",
      "Cbc0010I After 496 nodes, 33 on tree, 226 best solution, best possible 62 (6.79 seconds)\n",
      "Cbc0010I After 637 nodes, 36 on tree, 226 best solution, best possible 62 (7.50 seconds)\n",
      "Cbc0010I After 885 nodes, 30 on tree, 226 best solution, best possible 62 (8.20 seconds)\n",
      "Cbc0010I After 1095 nodes, 16 on tree, 226 best solution, best possible 62 (8.90 seconds)\n",
      "Cbc0010I After 1291 nodes, 8 on tree, 226 best solution, best possible 62 (9.60 seconds)\n",
      "Cbc0010I After 1481 nodes, 32 on tree, 226 best solution, best possible 62 (10.30 seconds)\n",
      "Cbc0010I After 1676 nodes, 29 on tree, 226 best solution, best possible 62 (11.00 seconds)\n",
      "Cbc0010I After 1832 nodes, 35 on tree, 226 best solution, best possible 62 (11.71 seconds)\n",
      "Cbc0010I After 2019 nodes, 25 on tree, 226 best solution, best possible 62 (12.41 seconds)\n",
      "Cbc0010I After 2242 nodes, 27 on tree, 226 best solution, best possible 62 (13.11 seconds)\n",
      "Cbc0010I After 2464 nodes, 18 on tree, 226 best solution, best possible 62 (13.81 seconds)\n",
      "Cbc0010I After 2722 nodes, 25 on tree, 226 best solution, best possible 62 (14.51 seconds)\n",
      "Cbc0010I After 2938 nodes, 12 on tree, 226 best solution, best possible 62 (15.22 seconds)\n",
      "Cbc0010I After 3109 nodes, 5 on tree, 226 best solution, best possible 62 (15.92 seconds)\n",
      "Cbc0010I After 3250 nodes, 8 on tree, 226 best solution, best possible 62 (16.63 seconds)\n",
      "Cbc0010I After 3432 nodes, 7 on tree, 226 best solution, best possible 62 (17.33 seconds)\n",
      "Cbc0010I After 3577 nodes, 27 on tree, 226 best solution, best possible 62 (18.04 seconds)\n",
      "Cbc0010I After 3791 nodes, 30 on tree, 226 best solution, best possible 62 (18.74 seconds)\n",
      "Cbc0010I After 4000 nodes, 24 on tree, 226 best solution, best possible 62 (19.44 seconds)\n",
      "Cbc0010I After 4162 nodes, 22 on tree, 226 best solution, best possible 62 (20.14 seconds)\n",
      "Cbc0010I After 4304 nodes, 24 on tree, 226 best solution, best possible 62 (20.84 seconds)\n",
      "Cbc0010I After 4489 nodes, 31 on tree, 226 best solution, best possible 62 (21.56 seconds)\n",
      "Cbc0010I After 4664 nodes, 25 on tree, 226 best solution, best possible 62 (22.26 seconds)\n",
      "Cbc0010I After 4842 nodes, 23 on tree, 226 best solution, best possible 62 (22.96 seconds)\n",
      "Cbc0010I After 4984 nodes, 15 on tree, 226 best solution, best possible 62 (23.66 seconds)\n",
      "Cbc0010I After 5094 nodes, 21 on tree, 226 best solution, best possible 62 (24.37 seconds)\n",
      "Cbc0010I After 5213 nodes, 2 on tree, 226 best solution, best possible 62 (25.08 seconds)\n",
      "Cbc0010I After 5352 nodes, 2 on tree, 226 best solution, best possible 62 (25.79 seconds)\n",
      "Cbc0010I After 5542 nodes, 26 on tree, 226 best solution, best possible 62 (26.49 seconds)\n",
      "Cbc0010I After 5863 nodes, 13 on tree, 226 best solution, best possible 62 (27.20 seconds)\n",
      "Cbc0010I After 6114 nodes, 14 on tree, 226 best solution, best possible 62 (27.90 seconds)\n",
      "Cbc0010I After 6267 nodes, 2 on tree, 226 best solution, best possible 62 (28.67 seconds)\n",
      "Cbc0010I After 6403 nodes, 2 on tree, 226 best solution, best possible 62 (29.40 seconds)\n",
      "Cbc0010I After 6551 nodes, 20 on tree, 226 best solution, best possible 63 (30.10 seconds)\n",
      "Cbc0010I After 6743 nodes, 21 on tree, 226 best solution, best possible 63 (30.80 seconds)\n",
      "Cbc0010I After 6897 nodes, 30 on tree, 226 best solution, best possible 64 (31.52 seconds)\n",
      "Cbc0010I After 7063 nodes, 38 on tree, 226 best solution, best possible 71 (32.22 seconds)\n",
      "Cbc0010I After 7206 nodes, 32 on tree, 226 best solution, best possible 72 (32.92 seconds)\n",
      "Cbc0010I After 7328 nodes, 29 on tree, 226 best solution, best possible 87 (33.62 seconds)\n",
      "Cbc0010I After 7451 nodes, 37 on tree, 226 best solution, best possible 88 (34.33 seconds)\n",
      "Cbc0010I After 7598 nodes, 40 on tree, 226 best solution, best possible 99 (35.03 seconds)\n",
      "Cbc0010I After 7756 nodes, 36 on tree, 226 best solution, best possible 116 (35.73 seconds)\n",
      "Cbc0010I After 7940 nodes, 38 on tree, 226 best solution, best possible 116 (36.44 seconds)\n",
      "Cbc0010I After 8130 nodes, 37 on tree, 226 best solution, best possible 116 (37.14 seconds)\n",
      "Cbc0010I After 8327 nodes, 54 on tree, 226 best solution, best possible 116 (37.85 seconds)\n",
      "Cbc0010I After 8570 nodes, 52 on tree, 226 best solution, best possible 116 (38.56 seconds)\n",
      "Cbc0010I After 8763 nodes, 51 on tree, 226 best solution, best possible 116 (39.26 seconds)\n",
      "Cbc0010I After 8951 nodes, 40 on tree, 226 best solution, best possible 116 (39.97 seconds)\n",
      "Cbc0010I After 9112 nodes, 40 on tree, 226 best solution, best possible 116 (40.67 seconds)\n",
      "Cbc0010I After 9293 nodes, 48 on tree, 226 best solution, best possible 116 (41.37 seconds)\n",
      "Cbc0010I After 9478 nodes, 43 on tree, 226 best solution, best possible 116 (42.07 seconds)\n",
      "Cbc0010I After 9681 nodes, 43 on tree, 226 best solution, best possible 116 (42.77 seconds)\n",
      "Cbc0010I After 9855 nodes, 38 on tree, 226 best solution, best possible 118 (43.48 seconds)\n",
      "Cbc0010I After 10045 nodes, 55 on tree, 226 best solution, best possible 118 (44.18 seconds)\n",
      "Cbc0010I After 10233 nodes, 39 on tree, 226 best solution, best possible 118 (44.89 seconds)\n",
      "Cbc0010I After 10402 nodes, 45 on tree, 226 best solution, best possible 118 (45.59 seconds)\n",
      "Cbc0010I After 10608 nodes, 39 on tree, 226 best solution, best possible 118 (46.29 seconds)\n",
      "Cbc0010I After 10816 nodes, 46 on tree, 226 best solution, best possible 120 (46.99 seconds)\n",
      "Cbc0010I After 11027 nodes, 35 on tree, 226 best solution, best possible 120 (47.70 seconds)\n",
      "Cbc0010I After 11170 nodes, 41 on tree, 226 best solution, best possible 121 (48.42 seconds)\n",
      "Cbc0010I After 11357 nodes, 22 on tree, 226 best solution, best possible 136 (49.15 seconds)\n",
      "Cbc0010I After 11513 nodes, 41 on tree, 226 best solution, best possible 145 (49.87 seconds)\n",
      "Cbc0010I After 11684 nodes, 28 on tree, 226 best solution, best possible 154 (50.57 seconds)\n",
      "Cbc0010I After 11860 nodes, 17 on tree, 226 best solution, best possible 155 (51.28 seconds)\n",
      "Cbc0010I After 12007 nodes, 29 on tree, 226 best solution, best possible 157 (51.98 seconds)\n",
      "Cbc0010I After 12114 nodes, 36 on tree, 226 best solution, best possible 157 (52.70 seconds)\n",
      "Cbc0010I After 12257 nodes, 27 on tree, 226 best solution, best possible 158 (53.41 seconds)\n",
      "Cbc0010I After 12416 nodes, 23 on tree, 226 best solution, best possible 162 (54.11 seconds)\n",
      "Cbc0010I After 12541 nodes, 14 on tree, 226 best solution, best possible 165 (54.81 seconds)\n",
      "Cbc0010I After 12690 nodes, 25 on tree, 226 best solution, best possible 167 (55.51 seconds)\n",
      "Cbc0010I After 12867 nodes, 19 on tree, 226 best solution, best possible 169 (56.21 seconds)\n",
      "Cbc0010I After 13054 nodes, 13 on tree, 226 best solution, best possible 171 (56.92 seconds)\n",
      "Cbc0010I After 13306 nodes, 13 on tree, 226 best solution, best possible 172 (57.62 seconds)\n",
      "Cbc0010I After 13513 nodes, 23 on tree, 226 best solution, best possible 172 (58.33 seconds)\n",
      "Cbc0010I After 13738 nodes, 25 on tree, 226 best solution, best possible 172 (59.03 seconds)\n",
      "Cbc0010I After 13991 nodes, 25 on tree, 226 best solution, best possible 172 (59.73 seconds)\n",
      "Cbc0010I After 14221 nodes, 29 on tree, 226 best solution, best possible 174 (60.44 seconds)\n",
      "Cbc0010I After 14452 nodes, 25 on tree, 226 best solution, best possible 193 (61.14 seconds)\n",
      "Cbc0010I After 14677 nodes, 13 on tree, 226 best solution, best possible 215 (61.85 seconds)\n",
      "Cbc0010I After 14922 nodes, 25 on tree, 226 best solution, best possible 215 (62.55 seconds)\n",
      "Cbc0010I After 15157 nodes, 15 on tree, 226 best solution, best possible 215 (63.25 seconds)\n",
      "Cbc0010I After 15455 nodes, 21 on tree, 226 best solution, best possible 215 (63.96 seconds)\n",
      "Cbc0010I After 15737 nodes, 25 on tree, 226 best solution, best possible 215 (64.66 seconds)\n",
      "Cbc0010I After 15938 nodes, 18 on tree, 226 best solution, best possible 215 (65.36 seconds)\n",
      "Cbc0010I After 16094 nodes, 29 on tree, 226 best solution, best possible 215 (66.06 seconds)\n",
      "Cbc0010I After 16284 nodes, 2 on tree, 226 best solution, best possible 215 (66.79 seconds)\n",
      "Cbc0010I After 16416 nodes, 1 on tree, 226 best solution, best possible 215 (67.49 seconds)\n",
      "Cbc0030I Thread 0 used 1109 times,  waiting to start 5.7820389,  6154 locks, 0.31873107 locked, 0.96349406 waiting for locks\n",
      "Cbc0030I Thread 1 used 1065 times,  waiting to start 6.1093318,  6006 locks, 0.341079 locked, 1.0408633 waiting for locks\n",
      "Cbc0030I Thread 2 used 1013 times,  waiting to start 6.6861103,  5653 locks, 0.32609773 locked, 1.2502427 waiting for locks\n",
      "Cbc0030I Thread 3 used 1097 times,  waiting to start 7.7465885,  6131 locks, 0.30923748 locked, 1.0594397 waiting for locks\n",
      "Cbc0030I Thread 4 used 1063 times,  waiting to start 6.2076437,  6002 locks, 0.30559158 locked, 1.0724854 waiting for locks\n",
      "Cbc0030I Thread 5 used 1000 times,  waiting to start 6.3657715,  5635 locks, 0.25408101 locked, 1.0713732 waiting for locks\n",
      "Cbc0030I Thread 6 used 974 times,  waiting to start 6.9561236,  5582 locks, 0.34879398 locked, 1.0355971 waiting for locks\n",
      "Cbc0030I Thread 7 used 1091 times,  waiting to start 7.1817191,  6095 locks, 0.28163743 locked, 1.0761573 waiting for locks\n",
      "Cbc0030I Thread 8 used 1093 times,  waiting to start 7.6537404,  6192 locks, 0.29519033 locked, 1.1609015 waiting for locks\n",
      "Cbc0030I Thread 9 used 978 times,  waiting to start 6.6059635,  5599 locks, 0.32403588 locked, 1.01176 waiting for locks\n",
      "Cbc0030I Thread 10 used 946 times,  waiting to start 6.9086363,  5425 locks, 0.27516484 locked, 1.1560941 waiting for locks\n",
      "Cbc0030I Thread 11 used 956 times,  waiting to start 7.0567479,  5485 locks, 0.35063648 locked, 0.88680935 waiting for locks\n",
      "Cbc0030I Thread 12 used 994 times,  waiting to start 7.5510495,  5527 locks, 0.30764723 locked, 1.0567613 waiting for locks\n",
      "Cbc0030I Thread 13 used 1044 times,  waiting to start 7.9843128,  5881 locks, 0.3438921 locked, 0.98861837 waiting for locks\n",
      "Cbc0030I Thread 14 used 1003 times,  waiting to start 7.4592569,  5695 locks, 0.31454325 locked, 1.00407 waiting for locks\n",
      "Cbc0030I Thread 15 used 991 times,  waiting to start 7.8653653,  5536 locks, 0.3581121 locked, 0.9165895 waiting for locks\n",
      "Cbc0030I Main thread 59.264118 waiting for threads,  32990 locks, 0.030650377 locked, 2.053323 waiting for locks\n",
      "Cbc0045I Orbital branching succeeded 1493 times - average extra   0.001, fixing (1241,   7.847)\n",
      "Cbc0001I Search completed - best objective 226, took 950359 iterations and 16417 nodes (67.80 seconds)\n",
      "Cbc0032I Strong branching done 39844 times (1513515 iterations), fathomed 1078 nodes and fixed 7027 variables\n",
      "Cbc0035I Maximum depth 69, 82803 variables fixed on reduced cost\n",
      "Total time (CPU seconds):       409.08   (Wallclock seconds):       67.81\n",
      "\n"
     ]
    },
    {
     "data": {
      "text/plain": [
       "<OptimizationStatus.OPTIMAL: 0>"
      ]
     },
     "execution_count": 8,
     "metadata": {},
     "output_type": "execute_result"
    }
   ],
   "source": [
    "model.objective = minimize(v)\n",
    "\n",
    "model.optimize()"
   ]
  },
  {
   "cell_type": "code",
   "execution_count": 9,
   "metadata": {},
   "outputs": [
    {
     "name": "stdout",
     "output_type": "stream",
     "text": [
      "Courier 0 travels from 0 to 3\n",
      "Courier 0 travels from 3 to 9\n",
      "Courier 0 travels from 9 to 0\n",
      "Courier 1 travels from 5 to 9\n",
      "Courier 1 travels from 7 to 5\n",
      "Courier 1 travels from 9 to 7\n",
      "Courier 2 travels from 9 to 9\n",
      "Courier 3 travels from 1 to 2\n",
      "Courier 3 travels from 2 to 9\n",
      "Courier 3 travels from 9 to 1\n",
      "Courier 4 travels from 6 to 9\n",
      "Courier 4 travels from 9 to 6\n",
      "Courier 5 travels from 4 to 9\n",
      "Courier 5 travels from 8 to 4\n",
      "Courier 5 travels from 9 to 8\n"
     ]
    }
   ],
   "source": [
    "for i in range(m):\n",
    "    for j1 in range(n + 1):\n",
    "        for j2 in range(n + 1):\n",
    "            if x[i, j1, j2].x == 1:\n",
    "                print(f\"Courier {i} travels from {j1} to {j2}\")"
   ]
  },
  {
   "cell_type": "code",
   "execution_count": 10,
   "metadata": {},
   "outputs": [
    {
     "name": "stdout",
     "output_type": "stream",
     "text": [
      "Courier 0: 9, 0, 3, 9\n",
      "Courier 1: 9, 7, 5, 9\n",
      "Courier 2: 9, 9\n",
      "Courier 3: 9, 1, 2, 9\n",
      "Courier 4: 9, 6, 9\n",
      "Courier 5: 9, 8, 4, 9\n"
     ]
    }
   ],
   "source": [
    "def find_next(i, node):\n",
    "    for j in range(n + 1):\n",
    "        if x[i, node, j].x == 1:\n",
    "            return j\n",
    "\n",
    "\n",
    "for i in range(m):\n",
    "    steps = [n]\n",
    "    current_node = n\n",
    "    \n",
    "    current_node = find_next(i, current_node)\n",
    "    steps.append(current_node)\n",
    "    while current_node != n:\n",
    "        current_node = find_next(i, current_node)\n",
    "        steps.append(current_node)\n",
    "    \n",
    "    print(f'Courier {i}:', ', '.join([str(node) for node in steps]))\n"
   ]
  },
  {
   "cell_type": "code",
   "execution_count": 11,
   "metadata": {},
   "outputs": [
    {
     "name": "stdout",
     "output_type": "stream",
     "text": [
      "[209.0, 199.0, 0.0, 226.0, 116.0, 220.0]\n"
     ]
    }
   ],
   "source": [
    "print([y[i].x for i in range(m)])"
   ]
  },
  {
   "cell_type": "code",
   "execution_count": 12,
   "metadata": {},
   "outputs": [
    {
     "name": "stdout",
     "output_type": "stream",
     "text": [
      "226.0\n"
     ]
    }
   ],
   "source": [
    "print(model.objective_value)"
   ]
  },
  {
   "cell_type": "code",
   "execution_count": 13,
   "metadata": {},
   "outputs": [
    {
     "name": "stdout",
     "output_type": "stream",
     "text": [
      "[(0, 0), (3, 1), (3, 2), (0, 3), (5, 4), (1, 5), (4, 6), (1, 7), (5, 8)]\n"
     ]
    }
   ],
   "source": [
    "print([(i, j) for j in range(n) for i in range(m) if t[i, j].x == 1])"
   ]
  }
 ],
 "metadata": {
  "kernelspec": {
   "display_name": "base",
   "language": "python",
   "name": "python3"
  },
  "language_info": {
   "codemirror_mode": {
    "name": "ipython",
    "version": 3
   },
   "file_extension": ".py",
   "mimetype": "text/x-python",
   "name": "python",
   "nbconvert_exporter": "python",
   "pygments_lexer": "ipython3",
   "version": "3.10.6"
  },
  "orig_nbformat": 4,
  "vscode": {
   "interpreter": {
    "hash": "6286809e7d4fbb71c3daa3810691c8b91be5bfdc04018685b72815f89374bbae"
   }
  }
 },
 "nbformat": 4,
 "nbformat_minor": 2
}
