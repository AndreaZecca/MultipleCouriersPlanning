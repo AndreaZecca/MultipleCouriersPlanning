{
 "cells": [
  {
   "cell_type": "code",
   "execution_count": 12,
   "metadata": {},
   "outputs": [],
   "source": [
    "from mip import *"
   ]
  },
  {
   "cell_type": "code",
   "execution_count": 13,
   "metadata": {},
   "outputs": [],
   "source": [
    "instance00 = {\n",
    "    \"m\" : 1,\n",
    "    \"n\" : 2,\n",
    "    \"l\" : [15],\n",
    "    \"s\" : [3, 2],\n",
    "    \"distances\" : [\n",
    "        [0, 4, 3,],\n",
    "        [3, 0, 4,],\n",
    "        [3, 4, 0,],\n",
    "    ]\n",
    "}\n",
    "\n",
    "instance1 = {\n",
    "    \"m\" : 3,\n",
    "    \"n\" : 7,\n",
    "    \"l\" : [15, 10, 7],\n",
    "    \"s\" : [3, 2, 6, 8, 5, 4, 4],\n",
    "    \"distances\" : [\n",
    "        [0, 3, 3, 6, 5, 6, 6, 2],\n",
    "        [3, 0, 4, 3, 4, 7, 7, 3],\n",
    "        [3, 4, 0, 7, 6, 3, 5, 3],\n",
    "        [6, 3, 7, 0, 3, 6, 6, 4],\n",
    "        [5, 4, 6, 3, 0, 3, 3, 3],\n",
    "        [6, 7, 3, 6, 3, 0, 2, 4],\n",
    "        [6, 7, 5, 6, 3, 2, 0, 4],\n",
    "        [2, 3, 3, 4, 3, 4, 4, 0]\n",
    "    ]\n",
    "}\n",
    "\n",
    "instanceBig1 = {\n",
    "    \"m\" : 6,\n",
    "    \"n\" : 9,\n",
    "    \"l\" : [190, 185, 185, 190, 195, 185],\n",
    "    \"s\" : [11, 11, 23, 16, 2, 1, 24, 14, 20],\n",
    "    \"distances\" : [\n",
    "        [0, 200, 119, 28, 180, 77, 145, 61, 123, 87],\n",
    "        [200, 0, 81, 207, 38, 122, 55, 138, 76, 113],\n",
    "        [119, 81, 0, 126, 69, 121, 26, 117, 91, 32],\n",
    "        [28, 207, 126, 0, 187, 84, 152, 68, 130, 94],\n",
    "        [170, 38, 79, 177, 0, 92, 58, 108, 46, 98],\n",
    "        [77, 122, 121, 84, 102, 0, 100, 16, 46, 96],\n",
    "        [145, 55, 26, 152, 58, 100, 0, 91, 70, 58],\n",
    "        [61, 138, 113, 68, 118, 16, 91, 0, 62, 87],\n",
    "        [123, 76, 91, 130, 56, 46, 70, 62, 0, 66],\n",
    "        [87, 113, 32, 94, 94, 96, 58, 87, 66, 0]\n",
    "    ]\n",
    "}"
   ]
  },
  {
   "cell_type": "code",
   "execution_count": 14,
   "metadata": {},
   "outputs": [],
   "source": [
    "instance = instanceBig1"
   ]
  },
  {
   "cell_type": "code",
   "execution_count": 15,
   "metadata": {},
   "outputs": [
    {
     "name": "stdout",
     "output_type": "stream",
     "text": [
      "Set parameter Username\n",
      "Academic license - for non-commercial use only - expires 2024-05-21\n",
      "Warning for adding constraints: zero or small (< 1e-13) coefficients, ignored\n"
     ]
    }
   ],
   "source": [
    "m = instance[\"m\"]\n",
    "n = instance[\"n\"]\n",
    "l = instance[\"l\"]\n",
    "s = instance[\"s\"]\n",
    "distances = np.array(instance[\"distances\"])\n",
    "max_distance = np.max(distances, axis=1).sum()\n",
    "\n",
    "# depot is n+1\n",
    "\n",
    "model = Model()\n",
    "\n",
    "# Variables\n",
    "# x[i,k] = j if courier i at time j is in location j\n",
    "x = model.add_var_tensor((m, n+2), name=\"x\", var_type=INTEGER, lb = 0, ub = n+1)\n",
    "\n",
    "# y[i] is the total distance travelled by courier i\n",
    "y = model.add_var_tensor((m,), name=\"y\", var_type=INTEGER, lb = 0, ub = max_distance)\n",
    "\n",
    "# z[i, j1, j2] = 1 if courier i travels from j1 to j2\n",
    "z = model.add_var_tensor((m, n+1, n+1), name=\"z\", var_type=BINARY)\n",
    "\n",
    "# t[i,j] = 1 if courier i takes package j\n",
    "t = model.add_var_tensor((m, n), name=\"t\", var_type=BINARY)\n",
    "\n",
    "# Constraints\n",
    "# Each courier must start at the depot\n",
    "model += x[:,0] == n+1\n",
    "# Each courier must end at the depot\n",
    "model += x[:,n+1] == n+1\n",
    "\n",
    "bigM = 100\n",
    "\n",
    "\n",
    "# t[i,j] = 1 if for some k x[i,k]=j\n",
    "for i in range(m):\n",
    "    for j in range(n):\n",
    "        model += t[i,j] <= xsum(x[i,k] == j for k in range(m))\n",
    "        model += t[i,j] >= xsum(x[i,k] == j for k in range(m)) - (1 - t[i,j]) * bigM\n",
    "\n",
    "# Each package must be taken by exactly one courier\n",
    "for j in range(n):\n",
    "    model += np.sum(t[:,j]) == 1\n",
    "\n",
    "# Each courier must take at most l[i] weight\n",
    "for i in range(m):\n",
    "    model += np.sum(t[i,:] * s) <= l[i]\n",
    "\n",
    "\n",
    "\n",
    "# z[i, j1, j2] = 1 iff (x[i,k]=j1 and x[i,k+1]=j2)\n",
    "for i in range(m):\n",
    "    for j1 in range(n+1):\n",
    "        for j2 in range(n+1):\n",
    "            for k in range(n+1):\n",
    "                # model += z[i,j1,j2] <= (x[i,k] - j1) + (1 - x[i,k+1]) * bigM\n",
    "                # model += z[i,j1,j2] >= x[i,k+1] - j2 + (1 - x[i,k]) * bigM\n",
    "                model += z[i,j1,j2] <= np.where(x[i,k]==j1, 1, 0).sum()\n",
    "                model += z[i,j1,j2] <= np.where(x[i,k+1]==j2, 1, 0).sum()\n",
    "                model += z[i,j1,j2] >= np.where(x[i,k]==j1, 1, 0).sum() + np.where(x[i,k+1]==j2, 1, 0).sum() - 1\n",
    "\n",
    "# y[i]\n",
    "for i in range(m):\n",
    "    model += np.sum(z[i,:,:] * distances) == y[i]\n",
    "\n",
    "\n",
    "v = model.add_var(name=\"v\", var_type=INTEGER, lb=0, ub=max_distance)\n",
    "\n",
    "for i in range(m):\n",
    "    model += v >= y[i]\n",
    "\n",
    "model.threads = -1\n"
   ]
  },
  {
   "cell_type": "code",
   "execution_count": 16,
   "metadata": {},
   "outputs": [
    {
     "name": "stdout",
     "output_type": "stream",
     "text": [
      "Set parameter NodeLimit to value 1073741824\n",
      "Set parameter SolutionLimit to value 1073741824\n",
      "Set parameter IntFeasTol to value 1e-06\n",
      "Set parameter Method to value 3\n",
      "Gurobi Optimizer version 10.0.1 build v10.0.1rc0 (linux64)\n",
      "\n",
      "CPU model: Intel(R) Core(TM) i5-8300H CPU @ 2.30GHz, instruction set [SSE2|AVX|AVX2]\n",
      "Thread count: 4 physical cores, 8 logical processors, using up to 8 threads\n",
      "\n",
      "Optimize a model with 18147 rows, 727 columns and 19434 nonzeros\n",
      "Model fingerprint: 0xe65dd3be\n",
      "Variable types: 0 continuous, 727 integer (654 binary)\n",
      "Coefficient statistics:\n",
      "  Matrix range     [1e+00, 2e+02]\n",
      "  Objective range  [1e+00, 1e+00]\n",
      "  Bounds range     [1e+00, 2e+03]\n",
      "  RHS range        [1e+00, 2e+02]\n",
      "Presolve removed 12012 rows and 30 columns\n",
      "Presolve time: 0.01s\n",
      "\n",
      "Explored 0 nodes (0 simplex iterations) in 0.02 seconds (0.00 work units)\n",
      "Thread count was 1 (of 8 available processors)\n",
      "\n",
      "Solution count 0\n",
      "\n",
      "Model is infeasible\n",
      "Best objective -, best bound -, gap -\n"
     ]
    },
    {
     "data": {
      "text/plain": [
       "<OptimizationStatus.INFEASIBLE: 1>"
      ]
     },
     "execution_count": 16,
     "metadata": {},
     "output_type": "execute_result"
    }
   ],
   "source": [
    "model.objective = minimize(v)\n",
    "\n",
    "model.optimize()"
   ]
  },
  {
   "cell_type": "code",
   "execution_count": 17,
   "metadata": {},
   "outputs": [
    {
     "name": "stdout",
     "output_type": "stream",
     "text": [
      "[None, None, None, None, None, None]\n"
     ]
    }
   ],
   "source": [
    "print([y[i].x for i in range(m)])\n"
   ]
  },
  {
   "cell_type": "code",
   "execution_count": 18,
   "metadata": {},
   "outputs": [
    {
     "name": "stdout",
     "output_type": "stream",
     "text": [
      "None\n"
     ]
    }
   ],
   "source": [
    "print(model.objective_value)\n"
   ]
  }
 ],
 "metadata": {
  "kernelspec": {
   "display_name": "Python 3",
   "language": "python",
   "name": "python3"
  },
  "language_info": {
   "codemirror_mode": {
    "name": "ipython",
    "version": 3
   },
   "file_extension": ".py",
   "mimetype": "text/x-python",
   "name": "python",
   "nbconvert_exporter": "python",
   "pygments_lexer": "ipython3",
   "version": "3.10.6"
  },
  "orig_nbformat": 4
 },
 "nbformat": 4,
 "nbformat_minor": 2
}
