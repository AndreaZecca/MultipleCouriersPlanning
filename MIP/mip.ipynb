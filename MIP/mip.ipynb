{
 "cells": [
  {
   "cell_type": "code",
   "execution_count": 283,
   "metadata": {},
   "outputs": [],
   "source": [
    "from mip import *\n",
    "\n"
   ]
  },
  {
   "cell_type": "code",
   "execution_count": 284,
   "metadata": {},
   "outputs": [],
   "source": [
    "instance00 = {\n",
    "    \"m\" : 1,\n",
    "    \"n\" : 2,\n",
    "    \"l\" : [15],\n",
    "    \"s\" : [3, 2],\n",
    "    \"distances\" : [\n",
    "        [0, 4, 3,],\n",
    "        [3, 0, 4,],\n",
    "        [3, 4, 0,],\n",
    "    ]\n",
    "}"
   ]
  },
  {
   "cell_type": "code",
   "execution_count": 285,
   "metadata": {},
   "outputs": [],
   "source": [
    "instance1 = {\n",
    "    \"m\" : 3,\n",
    "    \"n\" : 7,\n",
    "    \"l\" : [15, 10, 7],\n",
    "    \"s\" : [3, 2, 6, 8, 5, 4, 4],\n",
    "    \"distances\" : [\n",
    "        [0, 3, 3, 6, 5, 6, 6, 2],\n",
    "        [3, 0, 4, 3, 4, 7, 7, 3],\n",
    "        [3, 4, 0, 7, 6, 3, 5, 3],\n",
    "        [6, 3, 7, 0, 3, 6, 6, 4],\n",
    "        [5, 4, 6, 3, 0, 3, 3, 3],\n",
    "        [6, 7, 3, 6, 3, 0, 2, 4],\n",
    "        [6, 7, 5, 6, 3, 2, 0, 4],\n",
    "        [2, 3, 3, 4, 3, 4, 4, 0]\n",
    "    ]\n",
    "}"
   ]
  },
  {
   "cell_type": "code",
   "execution_count": 286,
   "metadata": {},
   "outputs": [],
   "source": [
    "\"\"\"instanceBig1 = {\n",
    "    m = 6;\n",
    "n = 9;\n",
    "l = [190, 185, 185, 190, 195, 185];\n",
    "s = [11, 11, 23, 16, 2, 1, 24, 14, 20];\n",
    "distances = [0, 200, 119, 28, 180, 77, 145, 61, 123, 87, \n",
    " \t\t     200, 0, 81, 207, 38, 122, 55, 138, 76, 113, \n",
    " \t\t     119, 81, 0, 126, 69, 121, 26, 117, 91, 32, \n",
    " \t\t     28, 207, 126, 0, 187, 84, 152, 68, 130, 94, \n",
    " \t\t     170, 38, 79, 177, 0, 92, 58, 108, 46, 98, \n",
    " \t\t     77, 122, 121, 84, 102, 0, 100, 16, 46, 96, \n",
    " \t\t     145, 55, 26, 152, 58, 100, 0, 91, 70, 58, \n",
    " \t\t     61, 138, 113, 68, 118, 16, 91, 0, 62, 87, \n",
    " \t\t     123, 76, 91, 130, 56, 46, 70, 62, 0, 66, \n",
    " \t\t     87, 113, 32, 94, 94, 96, 58, 87, 66, 0 ];\n",
    "}\"\"\"\n",
    "\n",
    "instanceBig1 = {\n",
    "    \"m\" : 6,\n",
    "    \"n\" : 9,\n",
    "    \"l\" : [190, 185, 185, 190, 195, 185],\n",
    "    \"s\" : [11, 11, 23, 16, 2, 1, 24, 14, 20],\n",
    "    \"distances\" : [\n",
    "        [0, 200, 119, 28, 180, 77, 145, 61, 123, 87],\n",
    "        [200, 0, 81, 207, 38, 122, 55, 138, 76, 113],\n",
    "        [119, 81, 0, 126, 69, 121, 26, 117, 91, 32],\n",
    "        [28, 207, 126, 0, 187, 84, 152, 68, 130, 94],\n",
    "        [170, 38, 79, 177, 0, 92, 58, 108, 46, 98],\n",
    "        [77, 122, 121, 84, 102, 0, 100, 16, 46, 96],\n",
    "        [145, 55, 26, 152, 58, 100, 0, 91, 70, 58],\n",
    "        [61, 138, 113, 68, 118, 16, 91, 0, 62, 87],\n",
    "        [123, 76, 91, 130, 56, 46, 70, 62, 0, 66],\n",
    "        [87, 113, 32, 94, 94, 96, 58, 87, 66, 0]\n",
    "    ]\n",
    "}"
   ]
  },
  {
   "cell_type": "code",
   "execution_count": 287,
   "metadata": {},
   "outputs": [],
   "source": [
    "instance = instanceBig1"
   ]
  },
  {
   "cell_type": "code",
   "execution_count": 288,
   "metadata": {},
   "outputs": [
    {
     "data": {
      "text/plain": [
       "<OptimizationStatus.INFEASIBLE: 1>"
      ]
     },
     "execution_count": 288,
     "metadata": {},
     "output_type": "execute_result"
    }
   ],
   "source": [
    "n = instance[\"n\"]\n",
    "m = instance[\"m\"]\n",
    "s = instance[\"s\"]\n",
    "l = np.array(instance[\"l\"])\n",
    "max_distance = np.max(instance[\"distances\"], axis=1).sum()\n",
    "\n",
    "# deposit = n + 1\n",
    "\n",
    "# We have n + 1 nodes in total\n",
    "\n",
    "model = Model()\n",
    "\n",
    "# x[i, j1, j2] is 1 if the courier i travels from node j1 to node j2\n",
    "x = model.add_var_tensor((m, n + 1, n + 1), var_type=BINARY, name=\"x\")\n",
    "\n",
    "# y[i] is the distance traveled by the courier i\n",
    "y = model.add_var_tensor((m,), var_type=INTEGER, lb=0, ub=max_distance, name=\"y\")\n",
    "\n",
    "# t[i, j] is 1 if the courier i carries the package j\n",
    "t = model.add_var_tensor((m, n), var_type=BINARY, name=\"t\")\n",
    "\n",
    "# o[i] is 1 if if the courier goes outside\n",
    "#o = model.add_var_tensor((m,), var_type=BINARY, name=\"o\")\n",
    "\n",
    "# b[i, j] is 1 if you the courier i follows a path (starting from the deposit) that goes through the node j\n",
    "#b = model.add_var_tensor((m, n + 1), var_type=BINARY, name=\"b\")\n",
    "\n",
    "# c[i, j1, j2] is 1 iff the courier i travels from node j1 to node j2 and b[i, j1] is true\n",
    "#c = model.add_var_tensor((m, n + 1, n + 1), var_type=BINARY, name=\"c\")\n",
    "\n",
    "# z assigns an increasing number to each step of the courier\n",
    "z = model.add_var_tensor((m, n + 1), var_type=INTEGER, lb=0, name=\"z\")\n",
    "\n",
    "\n",
    "\"\"\"# All couriers start at the starting deposit\n",
    "for i in range(m):\n",
    "    model += np.sum(x[i, n + 1, :]) == 1\n",
    "    model += np.sum(x[i, :, n + 1]) == 0\n",
    "\n",
    "# All couriers end at the arrival deposit\n",
    "for i in range(m):\n",
    "    model += np.sum(x[i, :, n + 2]) == 1\n",
    "    model += np.sum(x[i, n + 2, :]) == 0\"\"\"\n",
    "\n",
    "\"\"\"# If the courier stays home, he will not go anywhere\n",
    "for i in range(m):\n",
    "    # Blocks travels between packages\n",
    "    model += x[i, :n, :n] <= o[i]\n",
    "    # Blocks travels from deposit to packages\n",
    "    # TODO: Check if it should be\n",
    "    # model += np.sum(x[i, n, :n]) == 1\n",
    "    # same for the other one\n",
    "    model += x[i, n, :n] <= o[i]\n",
    "    # (Opt.) Blocks travels from packages to deposit\n",
    "    model += x[i, :n, n] <= o[i]\n",
    "\n",
    "# If the courier goes outside, it cannot do deposit->deposit\n",
    "for i in range(m):\n",
    "    model += x[i, n, n] <= 1 - o[i]\"\"\"\n",
    "\n",
    "# b is trivially true for the deposit\n",
    "# model += b[:, n] == 1\n",
    "\n",
    "\"\"\"a + b <= 2c\n",
    "a >= c\n",
    "b >= c\"\"\"\n",
    "\n",
    "#c[i, j1, j2] = x[i, j1, j2] AND b[i, j1]\n",
    "\n",
    "#b[i, j2] == sum(c[i, j1, j2] for j1 in range(n + 1)])\n",
    "\n",
    "\n",
    "# If b[i, j1] is true and you are going from j1 to j2, then b[i, j2] is true\n",
    "\"\"\"for i in range(m):\n",
    "    for j1 in range(n + 1):\n",
    "        for j2 in range(n + 1):\n",
    "            # model += b[i, j1] + x[i, j1, j2] <= 2 * b[i, j2]\n",
    "            # model += b[i, j2] <= b[i, j1]\n",
    "            # model += b[i, j2] <= x[i, j1, j2]\n",
    "\n",
    "            # model += b[i, j1] + x[i, j1, j2] - b[i, j2] <= 1\n",
    "\n",
    "            model += c[i, j1, j2] <= b[i, j1]\n",
    "            model += c[i, j1, j2] <= x[i, j1, j2]\n",
    "            model += c[i, j1, j2] >= b[i, j1] + x[i, j1, j2] - 1\n",
    "\n",
    "for i in range(m):\n",
    "    for j in range(n + 1):\n",
    "        model += np.sum(c[i, :, j]) == b[i, j]\n",
    "\n",
    "# The courier i cannot pass through node j if b[i, j] is false\n",
    "for i in range(m):\n",
    "    for j in range(n + 1):\n",
    "        # TODO: Optionally sum over j2\n",
    "        model += x[i, j, :] <= b[i, j]\n",
    "        model += x[i, :, j] <= b[i, j]\"\"\"\n",
    "\n",
    "# z is 0 at the deposit\n",
    "model += z[:, n] == 0\n",
    "\n",
    "for i in range(m):\n",
    "    for j1 in range(n + 1):\n",
    "        for j2 in range(n):\n",
    "            model += z[i, j2] == z[i, j1] + x[i, j1, j2]\n",
    "\n",
    "for i in range(m):\n",
    "    model += np.sum(x[i, n, :]) == 1\n",
    "    model += np.sum(x[i, :, n]) == 1\n",
    "\n",
    "\n",
    "# t[i, j] is 1 if the courier i carries the package j\n",
    "for i in range(m):\n",
    "    for j in range(n):\n",
    "        model += np.sum(x[i, j, :]) == t[i, j]\n",
    "\n",
    "# All packages are carried by exactly one courier\n",
    "for j in range(n):\n",
    "    model += np.sum(t[:, j]) == 1\n",
    "\n",
    "# If a courier arrives to a package, it has to leave from that package\n",
    "for i in range(m):\n",
    "    for j in range(n):\n",
    "        courier_arrives = np.sum(x[i, :, j])\n",
    "        courier_leaves = np.sum(x[i, j, :])\n",
    "        # (not arrives) or leaves\n",
    "        model += (1 - courier_arrives) + courier_leaves >= 1\n",
    "\n",
    "\n",
    "\"\"\"# Each node must be a middle stop exactly once\n",
    "for j in range(n):\n",
    "    model += np.sum(x[i, j, :]) == 1\n",
    "    model += np.sum(x[i, :, j]) == 1\"\"\"\n",
    "\n",
    "# Each courier does not exceed its capacity\n",
    "for i in range(m):\n",
    "    model += (t[i, :] @ s) <= l[i]\n",
    "\n",
    "# y[i] is the distance traveled by the courier i\n",
    "for i in range(m):\n",
    "    model +=  np.sum(x[i, :, :] * np.array(instance[\"distances\"])) == y[i]\n",
    "\n",
    "# You cannot travel from a node to itself\n",
    "for i in range(m):\n",
    "    for j in range(n):\n",
    "        model += x[i, j, j] == 0\n",
    "\n",
    "\n",
    "z = model.add_var(name=\"z\", var_type=INTEGER, lb=0, ub=max_distance)\n",
    "\n",
    "for i in range(m):\n",
    "    model += z >= y[i]\n",
    "\n",
    "model.objective = minimize(z)\n",
    "\n",
    "model.optimize()"
   ]
  },
  {
   "cell_type": "code",
   "execution_count": 289,
   "metadata": {},
   "outputs": [],
   "source": [
    "for i in range(m):\n",
    "    for j1 in range(n + 1):\n",
    "        for j2 in range(n + 1):\n",
    "            if x[i, j1, j2].x == 1:\n",
    "                print(f\"Courier {i} travels from {j1} to {j2}\")"
   ]
  },
  {
   "cell_type": "code",
   "execution_count": 290,
   "metadata": {},
   "outputs": [
    {
     "name": "stdout",
     "output_type": "stream",
     "text": [
      "Courier 0 goes through 2\n",
      "Courier 0 goes through 5\n",
      "Courier 0 goes through 7\n",
      "Courier 0 goes through 9\n",
      "Courier 1 goes through 1\n",
      "Courier 1 goes through 6\n",
      "Courier 1 goes through 9\n",
      "Courier 2 goes through 4\n",
      "Courier 2 goes through 8\n",
      "Courier 2 goes through 9\n",
      "Courier 3 goes through 9\n",
      "Courier 4 goes through 9\n",
      "Courier 5 goes through 0\n",
      "Courier 5 goes through 3\n",
      "Courier 5 goes through 9\n"
     ]
    }
   ],
   "source": [
    "for i in range(m):\n",
    "    for j in range(n + 1):\n",
    "        if b[i, j].x == 1:\n",
    "            print(f\"Courier {i} goes through {j}\")"
   ]
  },
  {
   "cell_type": "code",
   "execution_count": 291,
   "metadata": {},
   "outputs": [
    {
     "ename": "AttributeError",
     "evalue": "'LinExprTensor' object has no attribute 'x'",
     "output_type": "error",
     "traceback": [
      "\u001b[1;31m---------------------------------------------------------------------------\u001b[0m",
      "\u001b[1;31mAttributeError\u001b[0m                            Traceback (most recent call last)",
      "\u001b[1;32m~\\AppData\\Local\\Temp\\ipykernel_12696\\2562586131.py\u001b[0m in \u001b[0;36m<module>\u001b[1;34m\u001b[0m\n\u001b[0;32m     12\u001b[0m     \u001b[0msteps\u001b[0m\u001b[1;33m.\u001b[0m\u001b[0mappend\u001b[0m\u001b[1;33m(\u001b[0m\u001b[0mcurrent_node\u001b[0m\u001b[1;33m)\u001b[0m\u001b[1;33m\u001b[0m\u001b[1;33m\u001b[0m\u001b[0m\n\u001b[0;32m     13\u001b[0m     \u001b[1;32mwhile\u001b[0m \u001b[0mcurrent_node\u001b[0m \u001b[1;33m!=\u001b[0m \u001b[0mn\u001b[0m\u001b[1;33m:\u001b[0m\u001b[1;33m\u001b[0m\u001b[1;33m\u001b[0m\u001b[0m\n\u001b[1;32m---> 14\u001b[1;33m         \u001b[0mcurrent_node\u001b[0m \u001b[1;33m=\u001b[0m \u001b[0mfind_next\u001b[0m\u001b[1;33m(\u001b[0m\u001b[0mi\u001b[0m\u001b[1;33m,\u001b[0m \u001b[0mcurrent_node\u001b[0m\u001b[1;33m)\u001b[0m\u001b[1;33m\u001b[0m\u001b[1;33m\u001b[0m\u001b[0m\n\u001b[0m\u001b[0;32m     15\u001b[0m         \u001b[0msteps\u001b[0m\u001b[1;33m.\u001b[0m\u001b[0mappend\u001b[0m\u001b[1;33m(\u001b[0m\u001b[0mcurrent_node\u001b[0m\u001b[1;33m)\u001b[0m\u001b[1;33m\u001b[0m\u001b[1;33m\u001b[0m\u001b[0m\n\u001b[0;32m     16\u001b[0m \u001b[1;33m\u001b[0m\u001b[0m\n",
      "\u001b[1;32m~\\AppData\\Local\\Temp\\ipykernel_12696\\2562586131.py\u001b[0m in \u001b[0;36mfind_next\u001b[1;34m(i, node)\u001b[0m\n\u001b[0;32m      1\u001b[0m \u001b[1;32mdef\u001b[0m \u001b[0mfind_next\u001b[0m\u001b[1;33m(\u001b[0m\u001b[0mi\u001b[0m\u001b[1;33m,\u001b[0m \u001b[0mnode\u001b[0m\u001b[1;33m)\u001b[0m\u001b[1;33m:\u001b[0m\u001b[1;33m\u001b[0m\u001b[1;33m\u001b[0m\u001b[0m\n\u001b[0;32m      2\u001b[0m     \u001b[1;32mfor\u001b[0m \u001b[0mj\u001b[0m \u001b[1;32min\u001b[0m \u001b[0mrange\u001b[0m\u001b[1;33m(\u001b[0m\u001b[0mn\u001b[0m \u001b[1;33m+\u001b[0m \u001b[1;36m1\u001b[0m\u001b[1;33m)\u001b[0m\u001b[1;33m:\u001b[0m\u001b[1;33m\u001b[0m\u001b[1;33m\u001b[0m\u001b[0m\n\u001b[1;32m----> 3\u001b[1;33m         \u001b[1;32mif\u001b[0m \u001b[0mx\u001b[0m\u001b[1;33m[\u001b[0m\u001b[0mi\u001b[0m\u001b[1;33m,\u001b[0m \u001b[0mnode\u001b[0m\u001b[1;33m,\u001b[0m \u001b[0mj\u001b[0m\u001b[1;33m]\u001b[0m\u001b[1;33m.\u001b[0m\u001b[0mx\u001b[0m \u001b[1;33m==\u001b[0m \u001b[1;36m1\u001b[0m\u001b[1;33m:\u001b[0m\u001b[1;33m\u001b[0m\u001b[1;33m\u001b[0m\u001b[0m\n\u001b[0m\u001b[0;32m      4\u001b[0m             \u001b[1;32mreturn\u001b[0m \u001b[0mj\u001b[0m\u001b[1;33m\u001b[0m\u001b[1;33m\u001b[0m\u001b[0m\n\u001b[0;32m      5\u001b[0m \u001b[1;33m\u001b[0m\u001b[0m\n",
      "\u001b[1;31mAttributeError\u001b[0m: 'LinExprTensor' object has no attribute 'x'"
     ]
    }
   ],
   "source": [
    "def find_next(i, node):\n",
    "    for j in range(n + 1):\n",
    "        if x[i, node, j].x == 1:\n",
    "            return j\n",
    "\n",
    "\n",
    "for i in range(m):\n",
    "    steps = [n]\n",
    "    current_node = n\n",
    "    \n",
    "    current_node = find_next(i, current_node)\n",
    "    steps.append(current_node)\n",
    "    while current_node != n:\n",
    "        current_node = find_next(i, current_node)\n",
    "        steps.append(current_node)\n",
    "    \n",
    "    print(f'Courier {i}:', ', '.join([str(node) for node in steps]))\n"
   ]
  },
  {
   "cell_type": "code",
   "execution_count": null,
   "metadata": {},
   "outputs": [
    {
     "name": "stdout",
     "output_type": "stream",
     "text": [
      "[64.0, 102.0, 110.0, 0.0, 56.0, 32.0]\n"
     ]
    }
   ],
   "source": [
    "print([y[i].x for i in range(m)])"
   ]
  },
  {
   "cell_type": "code",
   "execution_count": null,
   "metadata": {},
   "outputs": [
    {
     "name": "stdout",
     "output_type": "stream",
     "text": [
      "110.0\n"
     ]
    }
   ],
   "source": [
    "print(model.objective_value)"
   ]
  },
  {
   "cell_type": "code",
   "execution_count": null,
   "metadata": {},
   "outputs": [
    {
     "name": "stdout",
     "output_type": "stream",
     "text": [
      "[(4, 0), (2, 1), (0, 2), (4, 3), (1, 4), (5, 5), (2, 6), (5, 7), (1, 8)]\n"
     ]
    }
   ],
   "source": [
    "print([(i, j) for j in range(n) for i in range(m) if t[i, j].x == 1])"
   ]
  }
 ],
 "metadata": {
  "kernelspec": {
   "display_name": "base",
   "language": "python",
   "name": "python3"
  },
  "language_info": {
   "codemirror_mode": {
    "name": "ipython",
    "version": 3
   },
   "file_extension": ".py",
   "mimetype": "text/x-python",
   "name": "python",
   "nbconvert_exporter": "python",
   "pygments_lexer": "ipython3",
   "version": "3.7.1"
  },
  "orig_nbformat": 4,
  "vscode": {
   "interpreter": {
    "hash": "6286809e7d4fbb71c3daa3810691c8b91be5bfdc04018685b72815f89374bbae"
   }
  }
 },
 "nbformat": 4,
 "nbformat_minor": 2
}
