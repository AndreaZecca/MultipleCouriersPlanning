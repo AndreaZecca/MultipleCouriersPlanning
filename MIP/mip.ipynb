{
 "cells": [
  {
   "cell_type": "code",
   "execution_count": 1,
   "metadata": {},
   "outputs": [],
   "source": [
    "from mip import *"
   ]
  },
  {
   "cell_type": "code",
   "execution_count": 2,
   "metadata": {},
   "outputs": [],
   "source": [
    "instance00 = {\n",
    "    \"m\" : 1,\n",
    "    \"n\" : 2,\n",
    "    \"l\" : [15],\n",
    "    \"s\" : [3, 2],\n",
    "    \"distances\" : [\n",
    "        [0, 4, 3,],\n",
    "        [3, 0, 4,],\n",
    "        [3, 4, 0,],\n",
    "    ]\n",
    "}"
   ]
  },
  {
   "cell_type": "code",
   "execution_count": 3,
   "metadata": {},
   "outputs": [],
   "source": [
    "instance1 = {\n",
    "    \"m\" : 3,\n",
    "    \"n\" : 7,\n",
    "    \"l\" : [15, 10, 7],\n",
    "    \"s\" : [3, 2, 6, 8, 5, 4, 4],\n",
    "    \"distances\" : [\n",
    "        [0, 3, 3, 6, 5, 6, 6, 2],\n",
    "        [3, 0, 4, 3, 4, 7, 7, 3],\n",
    "        [3, 4, 0, 7, 6, 3, 5, 3],\n",
    "        [6, 3, 7, 0, 3, 6, 6, 4],\n",
    "        [5, 4, 6, 3, 0, 3, 3, 3],\n",
    "        [6, 7, 3, 6, 3, 0, 2, 4],\n",
    "        [6, 7, 5, 6, 3, 2, 0, 4],\n",
    "        [2, 3, 3, 4, 3, 4, 4, 0]\n",
    "    ]\n",
    "}"
   ]
  },
  {
   "cell_type": "code",
   "execution_count": 4,
   "metadata": {},
   "outputs": [],
   "source": [
    "instanceBig1 = {\n",
    "    \"m\" : 6,\n",
    "    \"n\" : 9,\n",
    "    \"l\" : [190, 185, 185, 190, 195, 185],\n",
    "    \"s\" : [11, 11, 23, 16, 2, 1, 24, 14, 20],\n",
    "    \"distances\" : [\n",
    "        [0, 200, 119, 28, 180, 77, 145, 61, 123, 87],\n",
    "        [200, 0, 81, 207, 38, 122, 55, 138, 76, 113],\n",
    "        [119, 81, 0, 126, 69, 121, 26, 117, 91, 32],\n",
    "        [28, 207, 126, 0, 187, 84, 152, 68, 130, 94],\n",
    "        [170, 38, 79, 177, 0, 92, 58, 108, 46, 98],\n",
    "        [77, 122, 121, 84, 102, 0, 100, 16, 46, 96],\n",
    "        [145, 55, 26, 152, 58, 100, 0, 91, 70, 58],\n",
    "        [61, 138, 113, 68, 118, 16, 91, 0, 62, 87],\n",
    "        [123, 76, 91, 130, 56, 46, 70, 62, 0, 66],\n",
    "        [87, 113, 32, 94, 94, 96, 58, 87, 66, 0]\n",
    "    ]\n",
    "}"
   ]
  },
  {
   "cell_type": "code",
   "execution_count": 5,
   "metadata": {},
   "outputs": [],
   "source": [
    "instance = instanceBig1"
   ]
  },
  {
   "cell_type": "code",
   "execution_count": 6,
   "metadata": {},
   "outputs": [
    {
     "name": "stdout",
     "output_type": "stream",
     "text": [
      "Set parameter Username\n",
      "Academic license - for non-commercial use only - expires 2024-05-21\n",
      "Warning for adding constraints: zero or small (< 1e-13) coefficients, ignored\n"
     ]
    }
   ],
   "source": [
    "n = instance[\"n\"]\n",
    "m = instance[\"m\"]\n",
    "s = instance[\"s\"]\n",
    "l = np.array(instance[\"l\"])\n",
    "max_distance = np.max(instance[\"distances\"], axis=1).sum()\n",
    "\n",
    "# deposit = n + 1\n",
    "\n",
    "# model = Model(solver_name=CBC)\n",
    "model = Model() # uses Gurobi as default\n",
    "\n",
    "# x[i, j1, j2] is 1 if the courier i travels from node j1 to node j2\n",
    "x = model.add_var_tensor((m, n + 1, n + 1), var_type=BINARY, name=\"x\")\n",
    "\n",
    "# y[i] is the distance traveled by the courier i\n",
    "y = model.add_var_tensor((m,), var_type=INTEGER, lb=0, ub=max_distance, name=\"y\")\n",
    "\n",
    "# t[i, j] is 1 if the courier i carries the package j\n",
    "t = model.add_var_tensor((m, n), var_type=BINARY, name=\"t\")\n",
    "\n",
    "# z is a path counter where z[i, j] is the number of the node j in the path of the courier i\n",
    "z = model.add_var_tensor((m, n + 1), var_type=INTEGER, lb=0, ub=max_distance, name=\"z\")\n",
    "\n",
    "# M is a sufficiently large value for the path counter\n",
    "M = n + 3\n",
    "\n",
    "# The counter is 0 for the deposit\n",
    "model += z[:, n] == 0\n",
    "\n",
    "for i in range(m):\n",
    "    for j1 in range(n + 1):\n",
    "        for j2 in range(n): # Note that j2 cannot be n + 1 (i.e. the deposit)\n",
    "            # if x[i, j1, j2] = 1, then z[i, j2] = z[i, j1] + 1\n",
    "\n",
    "            model += z[i, j2] - z[i, j1] <= M * (1 - x[i, j1, j2]) + 1\n",
    "            model += z[i, j1] - z[i, j2] <= M * (1 - x[i, j1, j2]) - 1\n",
    "\n",
    "\n",
    "for i in range(m):\n",
    "    model += np.sum(x[i, n, :]) == 1\n",
    "    model += np.sum(x[i, :, n]) == 1\n",
    "\n",
    "\n",
    "# t[i, j] is 1 if the courier i carries the package j\n",
    "for i in range(m):\n",
    "    for j in range(n):\n",
    "        model += np.sum(x[i, j, :]) == t[i, j]\n",
    "\n",
    "# All packages are carried by exactly one courier\n",
    "for j in range(n):\n",
    "    model += np.sum(t[:, j]) == 1\n",
    "\n",
    "# If a courier arrives to a package, it has to leave from that package\n",
    "for i in range(m):\n",
    "    for j in range(n):\n",
    "        courier_arrives = np.sum(x[i, :, j])\n",
    "        courier_leaves = np.sum(x[i, j, :])\n",
    "        # (not arrives) or leaves\n",
    "        model += (1 - courier_arrives) + courier_leaves >= 1\n",
    "\n",
    "\n",
    "\"\"\"# Each node must be a middle stop exactly once\n",
    "for j in range(n):\n",
    "    model += np.sum(x[i, j, :]) == 1\n",
    "    model += np.sum(x[i, :, j]) == 1\"\"\"\n",
    "\n",
    "# Each courier does not exceed its capacity\n",
    "for i in range(m):\n",
    "    model += (t[i, :] @ s) <= l[i]\n",
    "\n",
    "# y[i] is the distance traveled by the courier i\n",
    "for i in range(m):\n",
    "    model +=  np.sum(x[i, :, :] * np.array(instance[\"distances\"])) == y[i]\n",
    "\n",
    "# You cannot travel from a node to itself\n",
    "for i in range(m):\n",
    "    for j in range(n):\n",
    "        model += x[i, j, j] == 0\n",
    "\n",
    "\n",
    "v = model.add_var(name=\"v\", var_type=INTEGER, lb=0, ub=max_distance)\n",
    "\n",
    "for i in range(m):\n",
    "    model += v >= y[i]\n",
    "\n",
    "model.threads = -1"
   ]
  },
  {
   "cell_type": "code",
   "execution_count": 7,
   "metadata": {},
   "outputs": [
    {
     "name": "stdout",
     "output_type": "stream",
     "text": [
      "-1\n"
     ]
    }
   ],
   "source": [
    "print(model.threads)"
   ]
  },
  {
   "cell_type": "code",
   "execution_count": 8,
   "metadata": {},
   "outputs": [
    {
     "name": "stdout",
     "output_type": "stream",
     "text": [
      "Set parameter NodeLimit to value 1073741824\n",
      "Set parameter SolutionLimit to value 1073741824\n",
      "Set parameter IntFeasTol to value 1e-06\n",
      "Set parameter Method to value 3\n",
      "Gurobi Optimizer version 10.0.1 build v10.0.1rc0 (linux64)\n",
      "\n",
      "CPU model: Intel(R) Core(TM) i5-8300H CPU @ 2.30GHz, instruction set [SSE2|AVX|AVX2]\n",
      "Thread count: 4 physical cores, 8 logical processors, using up to 8 threads\n",
      "\n",
      "Optimize a model with 1287 rows, 721 columns and 5544 nonzeros\n",
      "Model fingerprint: 0x5f583f48\n",
      "Variable types: 0 continuous, 721 integer (654 binary)\n",
      "Coefficient statistics:\n",
      "  Matrix range     [1e+00, 2e+02]\n",
      "  Objective range  [1e+00, 1e+00]\n",
      "  Bounds range     [1e+00, 2e+03]\n",
      "  RHS range        [1e+00, 2e+02]\n",
      "Presolve removed 228 rows and 114 columns\n",
      "Presolve time: 0.05s\n",
      "Presolved: 1059 rows, 607 columns, 4944 nonzeros\n",
      "Variable types: 0 continuous, 607 integer (546 binary)\n",
      "Found heuristic solution: objective 390.0000000\n",
      "Found heuristic solution: objective 302.0000000\n",
      "\n",
      "Use crossover to convert LP symmetric solution to basic solution...\n",
      "\n",
      "Root relaxation: objective 5.000000e+01, 49 iterations, 0.01 seconds (0.00 work units)\n",
      "\n",
      "    Nodes    |    Current Node    |     Objective Bounds      |     Work\n",
      " Expl Unexpl |  Obj  Depth IntInf | Incumbent    BestBd   Gap | It/Node Time\n",
      "\n",
      "     0     0   50.00000    0   26  302.00000   50.00000  83.4%     -    0s\n",
      "     0     0   50.08062    0   45  302.00000   50.08062  83.4%     -    0s\n",
      "     0     0   51.00000    0   36  302.00000   51.00000  83.1%     -    0s\n",
      "     0     0   58.81758    0   54  302.00000   58.81758  80.5%     -    0s\n",
      "     0     0   68.17407    0   67  302.00000   68.17407  77.4%     -    0s\n",
      "     0     0   70.01477    0   69  302.00000   70.01477  76.8%     -    0s\n",
      "     0     0   70.01477    0   78  302.00000   70.01477  76.8%     -    0s\n",
      "     0     0   70.88720    0  100  302.00000   70.88720  76.5%     -    0s\n",
      "     0     0   71.02597    0  109  302.00000   71.02597  76.5%     -    0s\n",
      "     0     0   71.09028    0   96  302.00000   71.09028  76.5%     -    0s\n",
      "     0     0   76.34727    0  102  302.00000   76.34727  74.7%     -    0s\n",
      "     0     0   76.34774    0  100  302.00000   76.34774  74.7%     -    0s\n",
      "H    0     0                     295.0000000  124.00000  58.0%     -    0s\n",
      "     0     0  124.00000    0  108  295.00000  124.00000  58.0%     -    0s\n",
      "     0     0  124.00000    0   97  295.00000  124.00000  58.0%     -    0s\n",
      "     0     2  124.00000    0   94  295.00000  124.00000  58.0%     -    0s\n",
      "H   30    28                     270.0000000  124.00000  54.1%  45.4    0s\n",
      "*   66    55               7     245.0000000  124.00000  49.4%  40.9    0s\n",
      "H   70    61                     226.0000000  124.00000  45.1%  40.2    0s\n",
      "\n",
      "Cutting planes:\n",
      "  Learned: 9\n",
      "  Gomory: 13\n",
      "  Cover: 68\n",
      "  Implied bound: 167\n",
      "  MIR: 31\n",
      "  StrongCG: 3\n",
      "  Inf proof: 7\n",
      "  Zero half: 4\n",
      "  RLT: 53\n",
      "\n",
      "Explored 2363 nodes (77252 simplex iterations) in 3.24 seconds (2.22 work units)\n",
      "Thread count was 8 (of 8 available processors)\n",
      "\n",
      "Solution count 6: 226 245 270 ... 390\n",
      "\n",
      "Optimal solution found (tolerance 1.00e-04)\n",
      "Best objective 2.260000000000e+02, best bound 2.260000000000e+02, gap 0.0000%\n"
     ]
    },
    {
     "data": {
      "text/plain": [
       "<OptimizationStatus.OPTIMAL: 0>"
      ]
     },
     "execution_count": 8,
     "metadata": {},
     "output_type": "execute_result"
    }
   ],
   "source": [
    "model.objective = minimize(v)\n",
    "\n",
    "model.optimize()"
   ]
  },
  {
   "cell_type": "code",
   "execution_count": 9,
   "metadata": {},
   "outputs": [
    {
     "name": "stdout",
     "output_type": "stream",
     "text": [
      "Courier 0 travels from 4 to 9\n",
      "Courier 0 travels from 9 to 4\n",
      "Courier 1 travels from 1 to 9\n",
      "Courier 1 travels from 9 to 1\n",
      "Courier 2 travels from 5 to 9\n",
      "Courier 2 travels from 7 to 5\n",
      "Courier 2 travels from 9 to 7\n",
      "Courier 3 travels from 0 to 3\n",
      "Courier 3 travels from 3 to 9\n",
      "Courier 3 travels from 9 to 0\n",
      "Courier 4 travels from 2 to 9\n",
      "Courier 4 travels from 9 to 2\n",
      "Courier 5 travels from 6 to 8\n",
      "Courier 5 travels from 8 to 9\n",
      "Courier 5 travels from 9 to 6\n"
     ]
    }
   ],
   "source": [
    "for i in range(m):\n",
    "    for j1 in range(n + 1):\n",
    "        for j2 in range(n + 1):\n",
    "            if x[i, j1, j2].x == 1:\n",
    "                print(f\"Courier {i} travels from {j1} to {j2}\")"
   ]
  },
  {
   "cell_type": "code",
   "execution_count": 10,
   "metadata": {},
   "outputs": [
    {
     "name": "stdout",
     "output_type": "stream",
     "text": [
      "Courier 0: 9, 4, 9\n",
      "Courier 1: 9, 1, 9\n",
      "Courier 2: 9, 7, 5, 9\n",
      "Courier 3: 9, 0, 3, 9\n",
      "Courier 4: 9, 2, 9\n",
      "Courier 5: 9, 6, 8, 9\n"
     ]
    }
   ],
   "source": [
    "def find_next(i, node):\n",
    "    for j in range(n + 1):\n",
    "        if x[i, node, j].x == 1:\n",
    "            return j\n",
    "\n",
    "\n",
    "for i in range(m):\n",
    "    steps = [n]\n",
    "    current_node = n\n",
    "    \n",
    "    current_node = find_next(i, current_node)\n",
    "    steps.append(current_node)\n",
    "    while current_node != n:\n",
    "        current_node = find_next(i, current_node)\n",
    "        steps.append(current_node)\n",
    "    \n",
    "    print(f'Courier {i}:', ', '.join([str(node) for node in steps]))\n"
   ]
  },
  {
   "cell_type": "code",
   "execution_count": 11,
   "metadata": {},
   "outputs": [
    {
     "name": "stdout",
     "output_type": "stream",
     "text": [
      "[192.0, 226.0, 199.0, 209.0, 64.0, 194.0]\n"
     ]
    }
   ],
   "source": [
    "print([y[i].x for i in range(m)])"
   ]
  },
  {
   "cell_type": "code",
   "execution_count": 12,
   "metadata": {},
   "outputs": [
    {
     "name": "stdout",
     "output_type": "stream",
     "text": [
      "226.0\n"
     ]
    }
   ],
   "source": [
    "print(model.objective_value)"
   ]
  },
  {
   "cell_type": "code",
   "execution_count": 13,
   "metadata": {},
   "outputs": [
    {
     "name": "stdout",
     "output_type": "stream",
     "text": [
      "[(3, 0), (1, 1), (4, 2), (3, 3), (0, 4), (2, 5), (5, 6), (2, 7), (5, 8)]\n"
     ]
    }
   ],
   "source": [
    "print([(i, j) for j in range(n) for i in range(m) if t[i, j].x == 1])"
   ]
  }
 ],
 "metadata": {
  "kernelspec": {
   "display_name": "base",
   "language": "python",
   "name": "python3"
  },
  "language_info": {
   "codemirror_mode": {
    "name": "ipython",
    "version": 3
   },
   "file_extension": ".py",
   "mimetype": "text/x-python",
   "name": "python",
   "nbconvert_exporter": "python",
   "pygments_lexer": "ipython3",
   "version": "3.10.6"
  },
  "orig_nbformat": 4,
  "vscode": {
   "interpreter": {
    "hash": "6286809e7d4fbb71c3daa3810691c8b91be5bfdc04018685b72815f89374bbae"
   }
  }
 },
 "nbformat": 4,
 "nbformat_minor": 2
}
