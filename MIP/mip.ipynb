{
 "cells": [
  {
   "cell_type": "code",
   "execution_count": 1,
   "metadata": {},
   "outputs": [],
   "source": [
    "from mip import *\n",
    "\n"
   ]
  },
  {
   "cell_type": "code",
   "execution_count": 2,
   "metadata": {},
   "outputs": [],
   "source": [
    "instance00 = {\n",
    "    \"m\" : 1,\n",
    "    \"n\" : 2,\n",
    "    \"l\" : [15],\n",
    "    \"s\" : [3, 2],\n",
    "    \"distances\" : [\n",
    "        [0, 4, 3,],\n",
    "        [3, 0, 4,],\n",
    "        [3, 4, 0,],\n",
    "    ]\n",
    "}"
   ]
  },
  {
   "cell_type": "code",
   "execution_count": 3,
   "metadata": {},
   "outputs": [],
   "source": [
    "instance1 = {\n",
    "    \"m\" : 3,\n",
    "    \"n\" : 7,\n",
    "    \"l\" : [15, 10, 7],\n",
    "    \"s\" : [3, 2, 6, 8, 5, 4, 4],\n",
    "    \"distances\" : [\n",
    "        [0, 3, 3, 6, 5, 6, 6, 2],\n",
    "        [3, 0, 4, 3, 4, 7, 7, 3],\n",
    "        [3, 4, 0, 7, 6, 3, 5, 3],\n",
    "        [6, 3, 7, 0, 3, 6, 6, 4],\n",
    "        [5, 4, 6, 3, 0, 3, 3, 3],\n",
    "        [6, 7, 3, 6, 3, 0, 2, 4],\n",
    "        [6, 7, 5, 6, 3, 2, 0, 4],\n",
    "        [2, 3, 3, 4, 3, 4, 4, 0]\n",
    "    ]\n",
    "}"
   ]
  },
  {
   "cell_type": "code",
   "execution_count": 4,
   "metadata": {},
   "outputs": [],
   "source": [
    "instanceBig1 = {\n",
    "    \"m\" : 6,\n",
    "    \"n\" : 9,\n",
    "    \"l\" : [190, 185, 185, 190, 195, 185],\n",
    "    \"s\" : [11, 11, 23, 16, 2, 1, 24, 14, 20],\n",
    "    \"distances\" : [\n",
    "        [0, 200, 119, 28, 180, 77, 145, 61, 123, 87],\n",
    "        [200, 0, 81, 207, 38, 122, 55, 138, 76, 113],\n",
    "        [119, 81, 0, 126, 69, 121, 26, 117, 91, 32],\n",
    "        [28, 207, 126, 0, 187, 84, 152, 68, 130, 94],\n",
    "        [170, 38, 79, 177, 0, 92, 58, 108, 46, 98],\n",
    "        [77, 122, 121, 84, 102, 0, 100, 16, 46, 96],\n",
    "        [145, 55, 26, 152, 58, 100, 0, 91, 70, 58],\n",
    "        [61, 138, 113, 68, 118, 16, 91, 0, 62, 87],\n",
    "        [123, 76, 91, 130, 56, 46, 70, 62, 0, 66],\n",
    "        [87, 113, 32, 94, 94, 96, 58, 87, 66, 0]\n",
    "    ]\n",
    "}"
   ]
  },
  {
   "cell_type": "code",
   "execution_count": 5,
   "metadata": {},
   "outputs": [],
   "source": [
    "instance = instanceBig1"
   ]
  },
  {
   "cell_type": "code",
   "execution_count": 6,
   "metadata": {},
   "outputs": [],
   "source": [
    "n = instance[\"n\"]\n",
    "m = instance[\"m\"]\n",
    "s = instance[\"s\"]\n",
    "l = np.array(instance[\"l\"])\n",
    "max_distance = np.max(instance[\"distances\"], axis=1).sum()\n",
    "\n",
    "# deposit = n + 1\n",
    "\n",
    "model = Model(solver_name=CBC)\n",
    "\n",
    "# x[i, j1, j2] is 1 if the courier i travels from node j1 to node j2\n",
    "x = model.add_var_tensor((m, n + 1, n + 1), var_type=BINARY, name=\"x\")\n",
    "\n",
    "# y[i] is the distance traveled by the courier i\n",
    "y = model.add_var_tensor((m,), var_type=INTEGER, lb=0, ub=max_distance, name=\"y\")\n",
    "\n",
    "# t[i, j] is 1 if the courier i carries the package j\n",
    "t = model.add_var_tensor((m, n), var_type=BINARY, name=\"t\")\n",
    "\n",
    "# z is a path counter where z[i, j] is the number of the node j in the path of the courier i\n",
    "z = model.add_var_tensor((m, n + 1), var_type=INTEGER, lb=0, ub=max_distance, name=\"z\")\n",
    "\n",
    "# M is a sufficiently large value for the path counter\n",
    "M = n + 3\n",
    "\n",
    "# The counter is 0 for the deposit\n",
    "model += z[:, n] == 0\n",
    "\n",
    "for i in range(m):\n",
    "    for j1 in range(n + 1):\n",
    "        for j2 in range(n): # Note that j2 cannot be n + 1 (i.e. the deposit)\n",
    "            # if x[i, j1, j2] = 1, then z[i, j2] = z[i, j1] + 1\n",
    "\n",
    "            model += z[i, j2] - z[i, j1] <= M * (1 - x[i, j1, j2]) + 1\n",
    "            model += z[i, j1] - z[i, j2] <= M * (1 - x[i, j1, j2]) - 1\n",
    "\n",
    "\n",
    "for i in range(m):\n",
    "    model += np.sum(x[i, n, :]) == 1\n",
    "    model += np.sum(x[i, :, n]) == 1\n",
    "\n",
    "\n",
    "# t[i, j] is 1 if the courier i carries the package j\n",
    "for i in range(m):\n",
    "    for j in range(n):\n",
    "        model += np.sum(x[i, j, :]) == t[i, j]\n",
    "\n",
    "# All packages are carried by exactly one courier\n",
    "for j in range(n):\n",
    "    model += np.sum(t[:, j]) == 1\n",
    "\n",
    "# If a courier arrives to a package, it has to leave from that package\n",
    "for i in range(m):\n",
    "    for j in range(n):\n",
    "        courier_arrives = np.sum(x[i, :, j])\n",
    "        courier_leaves = np.sum(x[i, j, :])\n",
    "        # (not arrives) or leaves\n",
    "        model += (1 - courier_arrives) + courier_leaves >= 1\n",
    "\n",
    "\n",
    "\"\"\"# Each node must be a middle stop exactly once\n",
    "for j in range(n):\n",
    "    model += np.sum(x[i, j, :]) == 1\n",
    "    model += np.sum(x[i, :, j]) == 1\"\"\"\n",
    "\n",
    "# Each courier does not exceed its capacity\n",
    "for i in range(m):\n",
    "    model += (t[i, :] @ s) <= l[i]\n",
    "\n",
    "# y[i] is the distance traveled by the courier i\n",
    "for i in range(m):\n",
    "    model +=  np.sum(x[i, :, :] * np.array(instance[\"distances\"])) == y[i]\n",
    "\n",
    "# You cannot travel from a node to itself\n",
    "for i in range(m):\n",
    "    for j in range(n):\n",
    "        model += x[i, j, j] == 0\n",
    "\n",
    "\n",
    "v = model.add_var(name=\"v\", var_type=INTEGER, lb=0, ub=max_distance)\n",
    "\n",
    "for i in range(m):\n",
    "    model += v >= y[i]\n",
    "\n",
    "model.threads = -1"
   ]
  },
  {
   "cell_type": "code",
   "execution_count": 7,
   "metadata": {},
   "outputs": [
    {
     "name": "stdout",
     "output_type": "stream",
     "text": [
      "-1\n"
     ]
    }
   ],
   "source": [
    "print(model.threads)"
   ]
  },
  {
   "cell_type": "code",
   "execution_count": 8,
   "metadata": {},
   "outputs": [
    {
     "name": "stdout",
     "output_type": "stream",
     "text": [
      "Welcome to the CBC MILP Solver \n",
      "Version: Trunk\n",
      "Build Date: Oct 24 2021 \n",
      "\n",
      "Starting solution of the Linear programming relaxation problem using Primal Simplex\n",
      "\n",
      "Clp0024I Matrix will be packed to eliminate 114 small elements\n",
      "Coin0506I Presolve 1053 (-234) rows, 601 (-120) columns and 4932 (-612) elements\n",
      "Clp1000I sum of infeasibilities 6.24066e-05 - average 5.92656e-08, 206 fixed columns\n",
      "Coin0506I Presolve 81 (-972) rows, 395 (-206) columns and 1530 (-3402) elements\n",
      "Clp0029I End of values pass after 395 iterations\n",
      "Clp0014I Perturbing problem by 0.001% of 3.3126433 - largest nonzero change 1.4452061e-05 ( 0.00053541528%) - largest zero change 2.8682824e-05\n",
      "Clp0000I Optimal - objective value 50\n",
      "Clp0000I Optimal - objective value 50\n",
      "Coin0511I After Postsolve, objective 50, infeasibilities - dual 0 (0), primal 0 (0)\n",
      "Clp0029I End of values pass after 18 iterations\n",
      "Clp0000I Optimal - objective value 50\n",
      "Clp0000I Optimal - objective value 50\n",
      "Clp0000I Optimal - objective value 50\n",
      "Coin0511I After Postsolve, objective 50, infeasibilities - dual 0 (0), primal 0 (0)\n",
      "Clp0032I Optimal objective 50 - 0 iterations time 0.102, Presolve 0.00, Idiot 0.09\n",
      "\n",
      "Starting MIP optimization\n",
      "Cgl0002I 54 variables fixed\n",
      "Cgl0003I 0 fixed, 0 tightened bounds, 108 strengthened rows, 0 substitutions\n",
      "Cgl0003I 0 fixed, 0 tightened bounds, 108 strengthened rows, 0 substitutions\n",
      "Cgl0003I 0 fixed, 0 tightened bounds, 108 strengthened rows, 0 substitutions\n",
      "Cgl0003I 0 fixed, 0 tightened bounds, 108 strengthened rows, 0 substitutions\n",
      "Cgl0003I 0 fixed, 0 tightened bounds, 108 strengthened rows, 0 substitutions\n",
      "Cgl0003I 0 fixed, 0 tightened bounds, 108 strengthened rows, 0 substitutions\n",
      "Cgl0003I 0 fixed, 0 tightened bounds, 108 strengthened rows, 0 substitutions\n",
      "Cgl0003I 0 fixed, 0 tightened bounds, 108 strengthened rows, 0 substitutions\n",
      "Cgl0003I 0 fixed, 0 tightened bounds, 54 strengthened rows, 0 substitutions\n",
      "Cgl0004I processed model has 1053 rows, 601 columns (601 integer (546 of which binary)) and 5850 elements\n",
      "Coin3009W Conflict graph built in 0.001 seconds, density: 1.932%\n",
      "Cgl0015I Clique Strengthening extended 0 cliques, 0 were dominated\n",
      "Cbc0045I Nauty: 852 orbits (100 useful covering 600 variables), 5 generators, group size: 720 - sparse size 28620 - took 0.022162 seconds\n",
      "Cbc0045I 1 integer variables out of 601 objects (601 integer) have cost of 1 - high priority\n",
      "Cbc0045I branch on satisfied N create fake objective N random cost N\n",
      "Cbc0038I Initial state - 27 integers unsatisfied sum - 4.09524\n",
      "Cbc0038I Pass   1: suminf.    2.50000 (32) obj. 219.611 iterations 147\n",
      "Cbc0038I Pass   2: suminf.    2.33333 (23) obj. 218.667 iterations 35\n",
      "Cbc0038I Pass   3: suminf.    1.75000 (14) obj. 814.75 iterations 189\n",
      "Cbc0038I Pass   4: suminf.    3.05556 (30) obj. 806 iterations 53\n",
      "Cbc0038I Pass   5: suminf.    5.47222 (15) obj. 746.139 iterations 231\n",
      "Cbc0038I Pass   6: suminf.    5.11111 (24) obj. 565.444 iterations 101\n",
      "Cbc0038I Pass   7: suminf.    3.28889 (25) obj. 443 iterations 189\n",
      "Cbc0038I Pass   8: suminf.    2.58333 (32) obj. 417.083 iterations 88\n",
      "Cbc0038I Pass   9: suminf.    2.93333 (29) obj. 628.1 iterations 217\n",
      "Cbc0038I Pass  10: suminf.    2.78571 (33) obj. 600.571 iterations 113\n",
      "Cbc0038I Pass  11: suminf.    2.66667 (22) obj. 870.417 iterations 308\n",
      "Cbc0038I Pass  12: suminf.    4.33333 (33) obj. 856.278 iterations 103\n",
      "Cbc0038I Pass  13: suminf.    2.16667 (14) obj. 391.167 iterations 240\n",
      "Cbc0038I Pass  14: suminf.    1.66667 (19) obj. 372.167 iterations 87\n",
      "Cbc0038I Pass  15: suminf.    2.33333 (22) obj. 388.333 iterations 171\n",
      "Cbc0038I Pass  16: suminf.    1.94444 (25) obj. 387.889 iterations 134\n",
      "Cbc0038I Pass  17: suminf.    7.00000 (14) obj. 789 iterations 236\n",
      "Cbc0038I Pass  18: suminf.    5.75000 (14) obj. 576.25 iterations 121\n",
      "Cbc0038I Pass  19: suminf.    1.91667 (9) obj. 630.25 iterations 110\n",
      "Cbc0038I Pass  20: suminf.    3.34954 (32) obj. 581.127 iterations 53\n",
      "Cbc0038I Pass  21: suminf.    5.33333 (19) obj. 541.333 iterations 161\n",
      "Cbc0038I Pass  22: suminf.    4.58333 (20) obj. 471.75 iterations 117\n",
      "Cbc0038I Pass  23: suminf.    3.25000 (18) obj. 401.75 iterations 179\n",
      "Cbc0038I Pass  24: suminf.    3.20833 (22) obj. 399.208 iterations 139\n",
      "Cbc0038I Pass  25: suminf.    2.50000 (15) obj. 763 iterations 246\n",
      "Cbc0038I Pass  26: suminf.    4.08333 (26) obj. 744.667 iterations 53\n",
      "Cbc0038I Pass  27: suminf.    2.16667 (19) obj. 614.5 iterations 156\n",
      "Cbc0038I Pass  28: suminf.    3.12500 (25) obj. 607.125 iterations 101\n",
      "Cbc0038I Pass  29: suminf.    3.70312 (28) obj. 749.984 iterations 306\n",
      "Cbc0038I Pass  30: suminf.    9.25000 (28) obj. 490.25 iterations 262\n",
      "Cbc0038I No solution found this major pass\n",
      "Cbc0038I Before mini branch and bound, 428 integers at bound fixed and 0 continuous\n",
      "Cbc0038I Full problem 1053 rows 601 columns, reduced to 283 rows 131 columns\n",
      "Cbc0038I Mini branch and bound did not improve solution (0.75 seconds)\n",
      "Cbc0038I After 0.75 seconds - Feasibility pump exiting - took 0.55 seconds\n",
      "Cbc0031I 20 added rows had average density of 92.45\n",
      "Cbc0013I At root node, 20 cuts changed objective from 50 to 61.998967 in 22 passes\n",
      "Cbc0014I Cut generator 0 (Probing) - 192 row cuts average 2.0 elements, 0 column cuts (0 active)  in 0.093 seconds - new frequency is 1\n",
      "Cbc0014I Cut generator 1 (Gomory) - 383 row cuts average 495.3 elements, 0 column cuts (0 active)  in 0.141 seconds - new frequency is 1\n",
      "Cbc0014I Cut generator 2 (Knapsack) - 0 row cuts average 0.0 elements, 0 column cuts (0 active)  in 0.011 seconds - new frequency is -100\n",
      "Cbc0014I Cut generator 3 (Clique) - 0 row cuts average 0.0 elements, 0 column cuts (0 active)  in 0.002 seconds - new frequency is -100\n",
      "Cbc0014I Cut generator 4 (OddWheel) - 0 row cuts average 0.0 elements, 0 column cuts (0 active)  in 0.003 seconds - new frequency is -100\n",
      "Cbc0014I Cut generator 5 (MixedIntegerRounding2) - 0 row cuts average 0.0 elements, 0 column cuts (0 active)  in 0.020 seconds - new frequency is -100\n",
      "Cbc0014I Cut generator 6 (FlowCover) - 0 row cuts average 0.0 elements, 0 column cuts (0 active)  in 0.024 seconds - new frequency is -100\n",
      "Cbc0014I Cut generator 7 (TwoMirCuts) - 56 row cuts average 75.6 elements, 0 column cuts (0 active)  in 0.023 seconds - new frequency is 1\n",
      "Cbc0010I After 0 nodes, 1 on tree, 1e+50 best solution, best possible 62 (2.10 seconds)\n",
      "Cbc0010I After 4 nodes, 2 on tree, 1e+50 best solution, best possible 62 (2.85 seconds)\n",
      "Cbc0012I Integer solution of 331 found by DiveCoefficient after 4455 iterations and 6 nodes (2.89 seconds)\n",
      "Cbc0012I Integer solution of 331 found by heuristic after 4540 iterations and 6 nodes (2.89 seconds)\n",
      "Cbc0010I After 43 nodes, 9 on tree, 331 best solution, best possible 62 (3.55 seconds)\n",
      "Cbc0012I Integer solution of 249 found by heuristic after 7524 iterations and 72 nodes (3.81 seconds)\n",
      "Cbc0010I After 174 nodes, 22 on tree, 249 best solution, best possible 62 (4.25 seconds)\n",
      "Cbc0010I After 311 nodes, 11 on tree, 249 best solution, best possible 62 (4.96 seconds)\n",
      "Cbc0012I Integer solution of 226 found by heuristic after 18036 iterations and 317 nodes (5.00 seconds)\n",
      "Cbc0010I After 431 nodes, 22 on tree, 226 best solution, best possible 62 (5.67 seconds)\n",
      "Cbc0010I After 588 nodes, 14 on tree, 226 best solution, best possible 62 (6.39 seconds)\n",
      "Cbc0010I After 750 nodes, 12 on tree, 226 best solution, best possible 62 (7.10 seconds)\n",
      "Cbc0010I After 909 nodes, 13 on tree, 226 best solution, best possible 62 (7.80 seconds)\n",
      "Cbc0010I After 1063 nodes, 15 on tree, 226 best solution, best possible 62 (8.51 seconds)\n",
      "Cbc0010I After 1282 nodes, 8 on tree, 226 best solution, best possible 62 (9.21 seconds)\n",
      "Cbc0010I After 1457 nodes, 15 on tree, 226 best solution, best possible 62 (9.92 seconds)\n",
      "Cbc0010I After 1634 nodes, 18 on tree, 226 best solution, best possible 62 (10.62 seconds)\n",
      "Cbc0010I After 1815 nodes, 14 on tree, 226 best solution, best possible 62 (11.32 seconds)\n",
      "Cbc0010I After 2042 nodes, 11 on tree, 226 best solution, best possible 62 (12.02 seconds)\n",
      "Cbc0010I After 2283 nodes, 9 on tree, 226 best solution, best possible 62 (12.73 seconds)\n",
      "Cbc0010I After 2514 nodes, 5 on tree, 226 best solution, best possible 62 (13.43 seconds)\n",
      "Cbc0010I After 2811 nodes, 13 on tree, 226 best solution, best possible 62 (14.13 seconds)\n",
      "Cbc0010I After 3153 nodes, 1 on tree, 226 best solution, best possible 62 (14.95 seconds)\n",
      "Cbc0010I After 3322 nodes, 15 on tree, 226 best solution, best possible 62 (15.65 seconds)\n",
      "Cbc0010I After 3515 nodes, 18 on tree, 226 best solution, best possible 62 (16.36 seconds)\n",
      "Cbc0010I After 3733 nodes, 5 on tree, 226 best solution, best possible 62 (17.06 seconds)\n",
      "Cbc0010I After 3913 nodes, 22 on tree, 226 best solution, best possible 62 (17.76 seconds)\n",
      "Cbc0010I After 4150 nodes, 21 on tree, 226 best solution, best possible 62 (18.46 seconds)\n",
      "Cbc0010I After 4312 nodes, 13 on tree, 226 best solution, best possible 62 (19.16 seconds)\n",
      "Cbc0010I After 4488 nodes, 10 on tree, 226 best solution, best possible 62 (19.87 seconds)\n",
      "Cbc0010I After 4631 nodes, 9 on tree, 226 best solution, best possible 62 (20.57 seconds)\n",
      "Cbc0010I After 4805 nodes, 5 on tree, 226 best solution, best possible 62 (21.27 seconds)\n",
      "Cbc0010I After 4966 nodes, 7 on tree, 226 best solution, best possible 62 (22.00 seconds)\n",
      "Cbc0010I After 5098 nodes, 1 on tree, 226 best solution, best possible 62 (22.70 seconds)\n",
      "Cbc0010I After 5286 nodes, 18 on tree, 226 best solution, best possible 63 (23.40 seconds)\n",
      "Cbc0010I After 5475 nodes, 24 on tree, 226 best solution, best possible 65 (24.11 seconds)\n",
      "Cbc0010I After 5644 nodes, 33 on tree, 226 best solution, best possible 73 (24.81 seconds)\n",
      "Cbc0010I After 5874 nodes, 29 on tree, 226 best solution, best possible 88 (25.51 seconds)\n",
      "Cbc0010I After 6105 nodes, 48 on tree, 226 best solution, best possible 90 (26.21 seconds)\n",
      "Cbc0010I After 6386 nodes, 54 on tree, 226 best solution, best possible 99 (26.91 seconds)\n",
      "Cbc0010I After 6660 nodes, 39 on tree, 226 best solution, best possible 99 (27.61 seconds)\n",
      "Cbc0010I After 6907 nodes, 48 on tree, 226 best solution, best possible 99 (28.31 seconds)\n",
      "Cbc0010I After 7160 nodes, 43 on tree, 226 best solution, best possible 99 (29.02 seconds)\n",
      "Cbc0010I After 7520 nodes, 39 on tree, 226 best solution, best possible 99 (29.72 seconds)\n",
      "Cbc0010I After 7707 nodes, 32 on tree, 226 best solution, best possible 99 (30.42 seconds)\n",
      "Cbc0010I After 7930 nodes, 37 on tree, 226 best solution, best possible 108 (31.12 seconds)\n",
      "Cbc0010I After 8213 nodes, 34 on tree, 226 best solution, best possible 115 (31.82 seconds)\n",
      "Cbc0010I After 8389 nodes, 34 on tree, 226 best solution, best possible 129 (32.53 seconds)\n",
      "Cbc0010I After 8552 nodes, 24 on tree, 226 best solution, best possible 129 (33.24 seconds)\n",
      "Cbc0010I After 8720 nodes, 16 on tree, 226 best solution, best possible 129 (33.94 seconds)\n",
      "Cbc0010I After 8984 nodes, 26 on tree, 226 best solution, best possible 129 (34.65 seconds)\n",
      "Cbc0010I After 9195 nodes, 17 on tree, 226 best solution, best possible 129 (35.35 seconds)\n",
      "Cbc0010I After 9413 nodes, 27 on tree, 226 best solution, best possible 129 (36.05 seconds)\n",
      "Cbc0010I After 9724 nodes, 22 on tree, 226 best solution, best possible 129 (36.75 seconds)\n",
      "Cbc0010I After 9981 nodes, 19 on tree, 226 best solution, best possible 131 (37.45 seconds)\n",
      "Cbc0010I After 10265 nodes, 15 on tree, 226 best solution, best possible 131 (38.16 seconds)\n",
      "Cbc0010I After 10533 nodes, 17 on tree, 226 best solution, best possible 131 (38.86 seconds)\n",
      "Cbc0010I After 10766 nodes, 15 on tree, 226 best solution, best possible 131 (39.56 seconds)\n",
      "Cbc0010I After 10941 nodes, 5 on tree, 226 best solution, best possible 131 (40.26 seconds)\n",
      "Cbc0010I After 11094 nodes, 10 on tree, 226 best solution, best possible 135 (40.97 seconds)\n",
      "Cbc0010I After 11235 nodes, 12 on tree, 226 best solution, best possible 138 (41.67 seconds)\n",
      "Cbc0010I After 11377 nodes, 2 on tree, 226 best solution, best possible 142 (42.39 seconds)\n",
      "Cbc0010I After 11484 nodes, 2 on tree, 226 best solution, best possible 215 (43.10 seconds)\n",
      "Cbc0010I After 11515 nodes, 2 on tree, 226 best solution, best possible 215 (43.95 seconds)\n",
      "Cbc0010I After 11531 nodes, 1 on tree, 226 best solution, best possible 215 (44.70 seconds)\n",
      "Cbc0030I Thread 0 used 1442 times,  waiting to start 1.9960992,  8129 locks, 0.22914338 locked, 0.094566107 waiting for locks\n",
      "Cbc0030I Thread 1 used 1436 times,  waiting to start 2.643868,  8106 locks, 0.20173287 locked, 0.15333462 waiting for locks\n",
      "Cbc0030I Thread 2 used 1396 times,  waiting to start 3.6775327,  7842 locks, 0.21907759 locked, 0.11202574 waiting for locks\n",
      "Cbc0030I Thread 3 used 1465 times,  waiting to start 4.0251524,  8334 locks, 0.21268129 locked, 0.11302137 waiting for locks\n",
      "Cbc0030I Thread 4 used 1456 times,  waiting to start 3.9316514,  8181 locks, 0.20803595 locked, 0.11635184 waiting for locks\n",
      "Cbc0030I Thread 5 used 1505 times,  waiting to start 4.1675587,  8443 locks, 0.21510291 locked, 0.14923859 waiting for locks\n",
      "Cbc0030I Thread 6 used 1459 times,  waiting to start 4.1347883,  8245 locks, 0.20274734 locked, 0.13074708 waiting for locks\n",
      "Cbc0030I Thread 7 used 1373 times,  waiting to start 4.2105212,  7791 locks, 0.18972969 locked, 0.14303684 waiting for locks\n",
      "Cbc0030I Main thread 39.556996 waiting for threads,  23176 locks, 0.017008066 locked, 0.13317895 waiting for locks\n",
      "Cbc0045I Orbital branching succeeded 1167 times - average extra   0.001, fixing (1123,   7.743)\n",
      "Cbc0001I Search completed - best objective 226, took 652339 iterations and 11532 nodes (44.87 seconds)\n",
      "Cbc0032I Strong branching done 29064 times (1053027 iterations), fathomed 778 nodes and fixed 5046 variables\n",
      "Cbc0035I Maximum depth 65, 60506 variables fixed on reduced cost\n",
      "Total time (CPU seconds):       267.94   (Wallclock seconds):       44.91\n",
      "\n"
     ]
    },
    {
     "data": {
      "text/plain": [
       "<OptimizationStatus.OPTIMAL: 0>"
      ]
     },
     "execution_count": 8,
     "metadata": {},
     "output_type": "execute_result"
    }
   ],
   "source": [
    "model.objective = minimize(v)\n",
    "\n",
    "model.optimize()"
   ]
  },
  {
   "cell_type": "code",
   "execution_count": 9,
   "metadata": {},
   "outputs": [
    {
     "name": "stdout",
     "output_type": "stream",
     "text": [
      "Courier 0 travels from 0 to 3\n",
      "Courier 0 travels from 3 to 9\n",
      "Courier 0 travels from 9 to 0\n",
      "Courier 1 travels from 1 to 9\n",
      "Courier 1 travels from 6 to 1\n",
      "Courier 1 travels from 9 to 6\n",
      "Courier 2 travels from 9 to 9\n",
      "Courier 3 travels from 2 to 9\n",
      "Courier 3 travels from 9 to 2\n",
      "Courier 4 travels from 5 to 7\n",
      "Courier 4 travels from 7 to 9\n",
      "Courier 4 travels from 9 to 5\n",
      "Courier 5 travels from 4 to 9\n",
      "Courier 5 travels from 8 to 4\n",
      "Courier 5 travels from 9 to 8\n"
     ]
    }
   ],
   "source": [
    "for i in range(m):\n",
    "    for j1 in range(n + 1):\n",
    "        for j2 in range(n + 1):\n",
    "            if x[i, j1, j2].x == 1:\n",
    "                print(f\"Courier {i} travels from {j1} to {j2}\")"
   ]
  },
  {
   "cell_type": "code",
   "execution_count": 10,
   "metadata": {},
   "outputs": [
    {
     "name": "stdout",
     "output_type": "stream",
     "text": [
      "Courier 0: 9, 0, 3, 9\n",
      "Courier 1: 9, 6, 1, 9\n",
      "Courier 2: 9, 9\n",
      "Courier 3: 9, 2, 9\n",
      "Courier 4: 9, 5, 7, 9\n",
      "Courier 5: 9, 8, 4, 9\n"
     ]
    }
   ],
   "source": [
    "def find_next(i, node):\n",
    "    for j in range(n + 1):\n",
    "        if x[i, node, j].x == 1:\n",
    "            return j\n",
    "\n",
    "\n",
    "for i in range(m):\n",
    "    steps = [n]\n",
    "    current_node = n\n",
    "    \n",
    "    current_node = find_next(i, current_node)\n",
    "    steps.append(current_node)\n",
    "    while current_node != n:\n",
    "        current_node = find_next(i, current_node)\n",
    "        steps.append(current_node)\n",
    "    \n",
    "    print(f'Courier {i}:', ', '.join([str(node) for node in steps]))\n"
   ]
  },
  {
   "cell_type": "code",
   "execution_count": 11,
   "metadata": {},
   "outputs": [
    {
     "name": "stdout",
     "output_type": "stream",
     "text": [
      "[209.0, 226.0, 0.0, 64.0, 199.0, 220.0]\n"
     ]
    }
   ],
   "source": [
    "print([y[i].x for i in range(m)])"
   ]
  },
  {
   "cell_type": "code",
   "execution_count": 12,
   "metadata": {},
   "outputs": [
    {
     "name": "stdout",
     "output_type": "stream",
     "text": [
      "226.0\n"
     ]
    }
   ],
   "source": [
    "print(model.objective_value)"
   ]
  },
  {
   "cell_type": "code",
   "execution_count": 13,
   "metadata": {},
   "outputs": [
    {
     "name": "stdout",
     "output_type": "stream",
     "text": [
      "[(0, 0), (1, 1), (3, 2), (0, 3), (5, 4), (4, 5), (1, 6), (4, 7), (5, 8)]\n"
     ]
    }
   ],
   "source": [
    "print([(i, j) for j in range(n) for i in range(m) if t[i, j].x == 1])"
   ]
  }
 ],
 "metadata": {
  "kernelspec": {
   "display_name": "base",
   "language": "python",
   "name": "python3"
  },
  "language_info": {
   "codemirror_mode": {
    "name": "ipython",
    "version": 3
   },
   "file_extension": ".py",
   "mimetype": "text/x-python",
   "name": "python",
   "nbconvert_exporter": "python",
   "pygments_lexer": "ipython3",
   "version": "3.10.6"
  },
  "orig_nbformat": 4,
  "vscode": {
   "interpreter": {
    "hash": "6286809e7d4fbb71c3daa3810691c8b91be5bfdc04018685b72815f89374bbae"
   }
  }
 },
 "nbformat": 4,
 "nbformat_minor": 2
}
